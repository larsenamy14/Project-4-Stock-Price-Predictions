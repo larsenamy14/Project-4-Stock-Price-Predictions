{
 "cells": [
  {
   "cell_type": "code",
   "execution_count": 911,
   "id": "50811c3c-e682-46d3-8be6-2e2f2e7fe3ab",
   "metadata": {
    "executionInfo": {
     "elapsed": 1962,
     "status": "ok",
     "timestamp": 1714788314685,
     "user": {
      "displayName": "Anthony Abushacra",
      "userId": "15974448273641783248"
     },
     "user_tz": 420
    },
    "id": "50811c3c-e682-46d3-8be6-2e2f2e7fe3ab",
    "tags": []
   },
   "outputs": [],
   "source": [
    "import pandas as pd\n",
    "import numpy as np\n",
    "from pathlib import Path\n",
    "from sklearn.cluster import KMeans\n",
    "from sklearn.preprocessing import StandardScaler\n",
    "from sklearn.ensemble import RandomForestRegressor\n",
    "from sklearn.model_selection import train_test_split\n",
    "from sklearn.metrics import mean_squared_error, r2_score\n",
    "from sklearn.ensemble import GradientBoostingRegressor\n",
    "from sklearn.model_selection import TimeSeriesSplit\n",
    "from sklearn.model_selection import cross_val_score\n",
    "from sklearn.model_selection import GridSearchCV\n",
    "from sklearn.preprocessing import PolynomialFeatures\n",
    "from sklearn.ensemble import RandomForestRegressor\n",
    "from sklearn.linear_model import Lasso\n",
    "from sklearn.model_selection import StratifiedKFold\n",
    "%matplotlib inline"
   ]
  },
  {
   "cell_type": "code",
   "execution_count": 912,
   "id": "1863d0b6-6725-49c3-85bb-13e7688b51f1",
   "metadata": {
    "executionInfo": {
     "elapsed": 13,
     "status": "ok",
     "timestamp": 1714788315791,
     "user": {
      "displayName": "Anthony Abushacra",
      "userId": "15974448273641783248"
     },
     "user_tz": 420
    },
    "id": "1863d0b6-6725-49c3-85bb-13e7688b51f1",
    "tags": []
   },
   "outputs": [],
   "source": [
    "# Read the CSV file into a DataFrame\n",
    "apple_df = pd.read_csv(\"AAPL.csv\", index_col = \"Date\")"
   ]
  },
  {
   "cell_type": "code",
   "execution_count": 913,
   "id": "0782dae6-4683-433c-b60e-d81d1a2a2006",
   "metadata": {
    "tags": []
   },
   "outputs": [],
   "source": [
    "fear_index_df = pd.read_csv(\"^VIX.csv\", index_col = \"Date\")\n",
    "\n",
    "# Rename the \"High\" column to \"Fear_index\"\n",
    "fear_index_df = fear_index_df.rename(columns={\"High\": \"Fear_index\"})\n"
   ]
  },
  {
   "cell_type": "code",
   "execution_count": 914,
   "id": "5782c6e2-2255-4fab-90a1-d9e1006627c8",
   "metadata": {
    "tags": []
   },
   "outputs": [],
   "source": [
    "spy_index_df = pd.read_csv(\"SPY.csv\", index_col = \"Date\")\n",
    "\n",
    "# Rename the \"High\" column to \"Fear_index\"\n",
    "spy_index_df = spy_index_df.rename(columns={\"High\": \"Spy_index\"})"
   ]
  },
  {
   "cell_type": "code",
   "execution_count": 915,
   "id": "e244b724-9666-4880-a98a-b4ce3f83097a",
   "metadata": {
    "tags": []
   },
   "outputs": [
    {
     "data": {
      "text/html": [
       "<div>\n",
       "<style scoped>\n",
       "    .dataframe tbody tr th:only-of-type {\n",
       "        vertical-align: middle;\n",
       "    }\n",
       "\n",
       "    .dataframe tbody tr th {\n",
       "        vertical-align: top;\n",
       "    }\n",
       "\n",
       "    .dataframe thead th {\n",
       "        text-align: right;\n",
       "    }\n",
       "</style>\n",
       "<table border=\"1\" class=\"dataframe\">\n",
       "  <thead>\n",
       "    <tr style=\"text-align: right;\">\n",
       "      <th></th>\n",
       "      <th>FEDFUNDS</th>\n",
       "    </tr>\n",
       "    <tr>\n",
       "      <th>DATE</th>\n",
       "      <th></th>\n",
       "    </tr>\n",
       "  </thead>\n",
       "  <tbody>\n",
       "    <tr>\n",
       "      <th>2014-04-01</th>\n",
       "      <td>0.09</td>\n",
       "    </tr>\n",
       "    <tr>\n",
       "      <th>2014-05-01</th>\n",
       "      <td>0.09</td>\n",
       "    </tr>\n",
       "    <tr>\n",
       "      <th>2014-06-01</th>\n",
       "      <td>0.10</td>\n",
       "    </tr>\n",
       "    <tr>\n",
       "      <th>2014-07-01</th>\n",
       "      <td>0.09</td>\n",
       "    </tr>\n",
       "    <tr>\n",
       "      <th>2014-08-01</th>\n",
       "      <td>0.09</td>\n",
       "    </tr>\n",
       "  </tbody>\n",
       "</table>\n",
       "</div>"
      ],
      "text/plain": [
       "            FEDFUNDS\n",
       "DATE                \n",
       "2014-04-01      0.09\n",
       "2014-05-01      0.09\n",
       "2014-06-01      0.10\n",
       "2014-07-01      0.09\n",
       "2014-08-01      0.09"
      ]
     },
     "execution_count": 915,
     "metadata": {},
     "output_type": "execute_result"
    }
   ],
   "source": [
    "fedfunds_df = pd.read_csv(\"FEDFUNDS (1).csv\", index_col = \"DATE\")\n",
    "\n",
    "fedfunds_df.head()"
   ]
  },
  {
   "cell_type": "code",
   "execution_count": 916,
   "id": "530f6057-4723-4005-b439-0b21b7c6215b",
   "metadata": {
    "tags": []
   },
   "outputs": [
    {
     "data": {
      "text/html": [
       "<div>\n",
       "<style scoped>\n",
       "    .dataframe tbody tr th:only-of-type {\n",
       "        vertical-align: middle;\n",
       "    }\n",
       "\n",
       "    .dataframe tbody tr th {\n",
       "        vertical-align: top;\n",
       "    }\n",
       "\n",
       "    .dataframe thead th {\n",
       "        text-align: right;\n",
       "    }\n",
       "</style>\n",
       "<table border=\"1\" class=\"dataframe\">\n",
       "  <thead>\n",
       "    <tr style=\"text-align: right;\">\n",
       "      <th></th>\n",
       "      <th>FEDFUNDS</th>\n",
       "    </tr>\n",
       "    <tr>\n",
       "      <th>DATE</th>\n",
       "      <th></th>\n",
       "    </tr>\n",
       "  </thead>\n",
       "  <tbody>\n",
       "    <tr>\n",
       "      <th>2014-04-01</th>\n",
       "      <td>0.09</td>\n",
       "    </tr>\n",
       "    <tr>\n",
       "      <th>2014-05-01</th>\n",
       "      <td>0.09</td>\n",
       "    </tr>\n",
       "    <tr>\n",
       "      <th>2014-06-01</th>\n",
       "      <td>0.10</td>\n",
       "    </tr>\n",
       "    <tr>\n",
       "      <th>2014-07-01</th>\n",
       "      <td>0.09</td>\n",
       "    </tr>\n",
       "    <tr>\n",
       "      <th>2014-08-01</th>\n",
       "      <td>0.09</td>\n",
       "    </tr>\n",
       "  </tbody>\n",
       "</table>\n",
       "</div>"
      ],
      "text/plain": [
       "            FEDFUNDS\n",
       "DATE                \n",
       "2014-04-01      0.09\n",
       "2014-05-01      0.09\n",
       "2014-06-01      0.10\n",
       "2014-07-01      0.09\n",
       "2014-08-01      0.09"
      ]
     },
     "execution_count": 916,
     "metadata": {},
     "output_type": "execute_result"
    }
   ],
   "source": [
    "# Convert the Date index to datetime format\n",
    "fedfunds_df.index = pd.to_datetime(fedfunds_df.index)\n",
    "\n",
    "fedfunds_df.head()"
   ]
  },
  {
   "cell_type": "code",
   "execution_count": 917,
   "id": "aa55446c-5022-45a9-8afe-83d8ae547a85",
   "metadata": {
    "tags": []
   },
   "outputs": [
    {
     "data": {
      "text/html": [
       "<div>\n",
       "<style scoped>\n",
       "    .dataframe tbody tr th:only-of-type {\n",
       "        vertical-align: middle;\n",
       "    }\n",
       "\n",
       "    .dataframe tbody tr th {\n",
       "        vertical-align: top;\n",
       "    }\n",
       "\n",
       "    .dataframe thead th {\n",
       "        text-align: right;\n",
       "    }\n",
       "</style>\n",
       "<table border=\"1\" class=\"dataframe\">\n",
       "  <thead>\n",
       "    <tr style=\"text-align: right;\">\n",
       "      <th></th>\n",
       "      <th>FEDFUNDS</th>\n",
       "    </tr>\n",
       "    <tr>\n",
       "      <th>DATE</th>\n",
       "      <th></th>\n",
       "    </tr>\n",
       "  </thead>\n",
       "  <tbody>\n",
       "    <tr>\n",
       "      <th>2024-03-28</th>\n",
       "      <td>5.33</td>\n",
       "    </tr>\n",
       "    <tr>\n",
       "      <th>2024-03-29</th>\n",
       "      <td>5.33</td>\n",
       "    </tr>\n",
       "    <tr>\n",
       "      <th>2024-03-30</th>\n",
       "      <td>5.33</td>\n",
       "    </tr>\n",
       "    <tr>\n",
       "      <th>2024-03-31</th>\n",
       "      <td>5.33</td>\n",
       "    </tr>\n",
       "    <tr>\n",
       "      <th>2024-04-01</th>\n",
       "      <td>5.33</td>\n",
       "    </tr>\n",
       "  </tbody>\n",
       "</table>\n",
       "</div>"
      ],
      "text/plain": [
       "            FEDFUNDS\n",
       "DATE                \n",
       "2024-03-28      5.33\n",
       "2024-03-29      5.33\n",
       "2024-03-30      5.33\n",
       "2024-03-31      5.33\n",
       "2024-04-01      5.33"
      ]
     },
     "execution_count": 917,
     "metadata": {},
     "output_type": "execute_result"
    }
   ],
   "source": [
    "# Resample the fed_funds_df to have daily frequency and forward fill the values\n",
    "fedfunds_df_monthly = fedfunds_df.resample('D').ffill()\n",
    "\n",
    "fedfunds_df_monthly.tail()"
   ]
  },
  {
   "cell_type": "code",
   "execution_count": 918,
   "id": "7074bf3b-b539-48ee-badc-47fd8c7a1849",
   "metadata": {
    "tags": []
   },
   "outputs": [
    {
     "data": {
      "text/html": [
       "<div>\n",
       "<style scoped>\n",
       "    .dataframe tbody tr th:only-of-type {\n",
       "        vertical-align: middle;\n",
       "    }\n",
       "\n",
       "    .dataframe tbody tr th {\n",
       "        vertical-align: top;\n",
       "    }\n",
       "\n",
       "    .dataframe thead th {\n",
       "        text-align: right;\n",
       "    }\n",
       "</style>\n",
       "<table border=\"1\" class=\"dataframe\">\n",
       "  <thead>\n",
       "    <tr style=\"text-align: right;\">\n",
       "      <th></th>\n",
       "      <th>Open</th>\n",
       "      <th>Spy_index</th>\n",
       "      <th>Low</th>\n",
       "      <th>Close</th>\n",
       "      <th>Adj Close</th>\n",
       "      <th>Volume</th>\n",
       "    </tr>\n",
       "    <tr>\n",
       "      <th>Date</th>\n",
       "      <th></th>\n",
       "      <th></th>\n",
       "      <th></th>\n",
       "      <th></th>\n",
       "      <th></th>\n",
       "      <th></th>\n",
       "    </tr>\n",
       "  </thead>\n",
       "  <tbody>\n",
       "    <tr>\n",
       "      <th>2014-04-30</th>\n",
       "      <td>187.440002</td>\n",
       "      <td>188.500000</td>\n",
       "      <td>187.179993</td>\n",
       "      <td>188.309998</td>\n",
       "      <td>157.372498</td>\n",
       "      <td>101508000</td>\n",
       "    </tr>\n",
       "    <tr>\n",
       "      <th>2014-05-01</th>\n",
       "      <td>188.220001</td>\n",
       "      <td>188.839996</td>\n",
       "      <td>187.729996</td>\n",
       "      <td>188.330002</td>\n",
       "      <td>157.389206</td>\n",
       "      <td>93019000</td>\n",
       "    </tr>\n",
       "    <tr>\n",
       "      <th>2014-05-02</th>\n",
       "      <td>188.309998</td>\n",
       "      <td>189.139999</td>\n",
       "      <td>187.779999</td>\n",
       "      <td>188.059998</td>\n",
       "      <td>157.163528</td>\n",
       "      <td>98122000</td>\n",
       "    </tr>\n",
       "    <tr>\n",
       "      <th>2014-05-05</th>\n",
       "      <td>187.139999</td>\n",
       "      <td>188.550003</td>\n",
       "      <td>186.619995</td>\n",
       "      <td>188.419998</td>\n",
       "      <td>157.464355</td>\n",
       "      <td>75883000</td>\n",
       "    </tr>\n",
       "    <tr>\n",
       "      <th>2014-05-06</th>\n",
       "      <td>188.000000</td>\n",
       "      <td>188.130005</td>\n",
       "      <td>186.740005</td>\n",
       "      <td>186.779999</td>\n",
       "      <td>156.093781</td>\n",
       "      <td>85454000</td>\n",
       "    </tr>\n",
       "  </tbody>\n",
       "</table>\n",
       "</div>"
      ],
      "text/plain": [
       "                  Open   Spy_index         Low       Close   Adj Close  \\\n",
       "Date                                                                     \n",
       "2014-04-30  187.440002  188.500000  187.179993  188.309998  157.372498   \n",
       "2014-05-01  188.220001  188.839996  187.729996  188.330002  157.389206   \n",
       "2014-05-02  188.309998  189.139999  187.779999  188.059998  157.163528   \n",
       "2014-05-05  187.139999  188.550003  186.619995  188.419998  157.464355   \n",
       "2014-05-06  188.000000  188.130005  186.740005  186.779999  156.093781   \n",
       "\n",
       "               Volume  \n",
       "Date                   \n",
       "2014-04-30  101508000  \n",
       "2014-05-01   93019000  \n",
       "2014-05-02   98122000  \n",
       "2014-05-05   75883000  \n",
       "2014-05-06   85454000  "
      ]
     },
     "execution_count": 918,
     "metadata": {},
     "output_type": "execute_result"
    }
   ],
   "source": [
    "spy_index_df.head()"
   ]
  },
  {
   "cell_type": "code",
   "execution_count": 919,
   "id": "6188a711-5815-4e4e-98a7-4b4c894f9447",
   "metadata": {
    "tags": []
   },
   "outputs": [
    {
     "data": {
      "text/html": [
       "<div>\n",
       "<style scoped>\n",
       "    .dataframe tbody tr th:only-of-type {\n",
       "        vertical-align: middle;\n",
       "    }\n",
       "\n",
       "    .dataframe tbody tr th {\n",
       "        vertical-align: top;\n",
       "    }\n",
       "\n",
       "    .dataframe thead th {\n",
       "        text-align: right;\n",
       "    }\n",
       "</style>\n",
       "<table border=\"1\" class=\"dataframe\">\n",
       "  <thead>\n",
       "    <tr style=\"text-align: right;\">\n",
       "      <th></th>\n",
       "      <th>Open</th>\n",
       "      <th>Fear_index</th>\n",
       "      <th>Low</th>\n",
       "      <th>Close</th>\n",
       "      <th>Adj Close</th>\n",
       "      <th>Volume</th>\n",
       "    </tr>\n",
       "    <tr>\n",
       "      <th>Date</th>\n",
       "      <th></th>\n",
       "      <th></th>\n",
       "      <th></th>\n",
       "      <th></th>\n",
       "      <th></th>\n",
       "      <th></th>\n",
       "    </tr>\n",
       "  </thead>\n",
       "  <tbody>\n",
       "    <tr>\n",
       "      <th>2014-04-30</th>\n",
       "      <td>14.05</td>\n",
       "      <td>14.18</td>\n",
       "      <td>13.34</td>\n",
       "      <td>13.41</td>\n",
       "      <td>13.41</td>\n",
       "      <td>0.0</td>\n",
       "    </tr>\n",
       "    <tr>\n",
       "      <th>2014-05-01</th>\n",
       "      <td>13.64</td>\n",
       "      <td>13.75</td>\n",
       "      <td>13.10</td>\n",
       "      <td>13.25</td>\n",
       "      <td>13.25</td>\n",
       "      <td>0.0</td>\n",
       "    </tr>\n",
       "    <tr>\n",
       "      <th>2014-05-02</th>\n",
       "      <td>13.15</td>\n",
       "      <td>13.50</td>\n",
       "      <td>12.83</td>\n",
       "      <td>12.91</td>\n",
       "      <td>12.91</td>\n",
       "      <td>0.0</td>\n",
       "    </tr>\n",
       "    <tr>\n",
       "      <th>2014-05-05</th>\n",
       "      <td>13.95</td>\n",
       "      <td>14.20</td>\n",
       "      <td>13.08</td>\n",
       "      <td>13.29</td>\n",
       "      <td>13.29</td>\n",
       "      <td>0.0</td>\n",
       "    </tr>\n",
       "    <tr>\n",
       "      <th>2014-05-06</th>\n",
       "      <td>13.65</td>\n",
       "      <td>13.90</td>\n",
       "      <td>13.28</td>\n",
       "      <td>13.80</td>\n",
       "      <td>13.80</td>\n",
       "      <td>0.0</td>\n",
       "    </tr>\n",
       "  </tbody>\n",
       "</table>\n",
       "</div>"
      ],
      "text/plain": [
       "             Open  Fear_index    Low  Close  Adj Close  Volume\n",
       "Date                                                          \n",
       "2014-04-30  14.05       14.18  13.34  13.41      13.41     0.0\n",
       "2014-05-01  13.64       13.75  13.10  13.25      13.25     0.0\n",
       "2014-05-02  13.15       13.50  12.83  12.91      12.91     0.0\n",
       "2014-05-05  13.95       14.20  13.08  13.29      13.29     0.0\n",
       "2014-05-06  13.65       13.90  13.28  13.80      13.80     0.0"
      ]
     },
     "execution_count": 919,
     "metadata": {},
     "output_type": "execute_result"
    }
   ],
   "source": [
    "fear_index_df.head()"
   ]
  },
  {
   "cell_type": "code",
   "execution_count": 920,
   "id": "0ff04f76-bc7a-426a-937e-58875e7d7c8c",
   "metadata": {
    "colab": {
     "base_uri": "https://localhost:8080/",
     "height": 235
    },
    "executionInfo": {
     "elapsed": 13,
     "status": "ok",
     "timestamp": 1714788315792,
     "user": {
      "displayName": "Anthony Abushacra",
      "userId": "15974448273641783248"
     },
     "user_tz": 420
    },
    "id": "0ff04f76-bc7a-426a-937e-58875e7d7c8c",
    "outputId": "03682596-cf1f-4796-9836-95d93bd9a0dd",
    "tags": []
   },
   "outputs": [
    {
     "data": {
      "text/html": [
       "<div>\n",
       "<style scoped>\n",
       "    .dataframe tbody tr th:only-of-type {\n",
       "        vertical-align: middle;\n",
       "    }\n",
       "\n",
       "    .dataframe tbody tr th {\n",
       "        vertical-align: top;\n",
       "    }\n",
       "\n",
       "    .dataframe thead th {\n",
       "        text-align: right;\n",
       "    }\n",
       "</style>\n",
       "<table border=\"1\" class=\"dataframe\">\n",
       "  <thead>\n",
       "    <tr style=\"text-align: right;\">\n",
       "      <th></th>\n",
       "      <th>Open</th>\n",
       "      <th>High</th>\n",
       "      <th>Low</th>\n",
       "      <th>Close</th>\n",
       "      <th>Adj Close</th>\n",
       "      <th>Volume</th>\n",
       "    </tr>\n",
       "    <tr>\n",
       "      <th>Date</th>\n",
       "      <th></th>\n",
       "      <th></th>\n",
       "      <th></th>\n",
       "      <th></th>\n",
       "      <th></th>\n",
       "      <th></th>\n",
       "    </tr>\n",
       "  </thead>\n",
       "  <tbody>\n",
       "    <tr>\n",
       "      <th>2014-04-30</th>\n",
       "      <td>21.165714</td>\n",
       "      <td>21.408215</td>\n",
       "      <td>21.064285</td>\n",
       "      <td>21.074642</td>\n",
       "      <td>18.562872</td>\n",
       "      <td>456640800</td>\n",
       "    </tr>\n",
       "    <tr>\n",
       "      <th>2014-05-01</th>\n",
       "      <td>21.142857</td>\n",
       "      <td>21.242857</td>\n",
       "      <td>20.941429</td>\n",
       "      <td>21.124287</td>\n",
       "      <td>18.606590</td>\n",
       "      <td>244048000</td>\n",
       "    </tr>\n",
       "    <tr>\n",
       "      <th>2014-05-02</th>\n",
       "      <td>21.155001</td>\n",
       "      <td>21.221430</td>\n",
       "      <td>21.061071</td>\n",
       "      <td>21.163570</td>\n",
       "      <td>18.641197</td>\n",
       "      <td>191514400</td>\n",
       "    </tr>\n",
       "    <tr>\n",
       "      <th>2014-05-05</th>\n",
       "      <td>21.076429</td>\n",
       "      <td>21.464287</td>\n",
       "      <td>21.071428</td>\n",
       "      <td>21.462856</td>\n",
       "      <td>18.904810</td>\n",
       "      <td>287067200</td>\n",
       "    </tr>\n",
       "    <tr>\n",
       "      <th>2014-05-06</th>\n",
       "      <td>21.492857</td>\n",
       "      <td>21.586071</td>\n",
       "      <td>21.228930</td>\n",
       "      <td>21.228930</td>\n",
       "      <td>18.698767</td>\n",
       "      <td>374564400</td>\n",
       "    </tr>\n",
       "  </tbody>\n",
       "</table>\n",
       "</div>"
      ],
      "text/plain": [
       "                 Open       High        Low      Close  Adj Close     Volume\n",
       "Date                                                                        \n",
       "2014-04-30  21.165714  21.408215  21.064285  21.074642  18.562872  456640800\n",
       "2014-05-01  21.142857  21.242857  20.941429  21.124287  18.606590  244048000\n",
       "2014-05-02  21.155001  21.221430  21.061071  21.163570  18.641197  191514400\n",
       "2014-05-05  21.076429  21.464287  21.071428  21.462856  18.904810  287067200\n",
       "2014-05-06  21.492857  21.586071  21.228930  21.228930  18.698767  374564400"
      ]
     },
     "execution_count": 920,
     "metadata": {},
     "output_type": "execute_result"
    }
   ],
   "source": [
    "# Display the DataFrame\n",
    "apple_df.head()"
   ]
  },
  {
   "cell_type": "code",
   "execution_count": 921,
   "id": "b5cfbf5a-5d84-4ae9-9c1b-48433e1ada1b",
   "metadata": {
    "tags": []
   },
   "outputs": [],
   "source": [
    "# Concatinate two dataframes and add \"High\" column from ^VIX.csv as fear_index\n",
    "concatenate_df = pd.concat([apple_df, fear_index_df['Fear_index']], axis=1)\n"
   ]
  },
  {
   "cell_type": "code",
   "execution_count": 922,
   "id": "fb1035dc-8d29-496b-84a5-9cbd11df90bc",
   "metadata": {
    "tags": []
   },
   "outputs": [
    {
     "data": {
      "text/html": [
       "<div>\n",
       "<style scoped>\n",
       "    .dataframe tbody tr th:only-of-type {\n",
       "        vertical-align: middle;\n",
       "    }\n",
       "\n",
       "    .dataframe tbody tr th {\n",
       "        vertical-align: top;\n",
       "    }\n",
       "\n",
       "    .dataframe thead th {\n",
       "        text-align: right;\n",
       "    }\n",
       "</style>\n",
       "<table border=\"1\" class=\"dataframe\">\n",
       "  <thead>\n",
       "    <tr style=\"text-align: right;\">\n",
       "      <th></th>\n",
       "      <th>Open</th>\n",
       "      <th>High</th>\n",
       "      <th>Low</th>\n",
       "      <th>Close</th>\n",
       "      <th>Adj Close</th>\n",
       "      <th>Volume</th>\n",
       "      <th>Fear_index</th>\n",
       "    </tr>\n",
       "    <tr>\n",
       "      <th>Date</th>\n",
       "      <th></th>\n",
       "      <th></th>\n",
       "      <th></th>\n",
       "      <th></th>\n",
       "      <th></th>\n",
       "      <th></th>\n",
       "      <th></th>\n",
       "    </tr>\n",
       "  </thead>\n",
       "  <tbody>\n",
       "    <tr>\n",
       "      <th>2014-04-30</th>\n",
       "      <td>21.165714</td>\n",
       "      <td>21.408215</td>\n",
       "      <td>21.064285</td>\n",
       "      <td>21.074642</td>\n",
       "      <td>18.562872</td>\n",
       "      <td>456640800.0</td>\n",
       "      <td>14.18</td>\n",
       "    </tr>\n",
       "    <tr>\n",
       "      <th>2014-05-01</th>\n",
       "      <td>21.142857</td>\n",
       "      <td>21.242857</td>\n",
       "      <td>20.941429</td>\n",
       "      <td>21.124287</td>\n",
       "      <td>18.606590</td>\n",
       "      <td>244048000.0</td>\n",
       "      <td>13.75</td>\n",
       "    </tr>\n",
       "    <tr>\n",
       "      <th>2014-05-02</th>\n",
       "      <td>21.155001</td>\n",
       "      <td>21.221430</td>\n",
       "      <td>21.061071</td>\n",
       "      <td>21.163570</td>\n",
       "      <td>18.641197</td>\n",
       "      <td>191514400.0</td>\n",
       "      <td>13.50</td>\n",
       "    </tr>\n",
       "    <tr>\n",
       "      <th>2014-05-05</th>\n",
       "      <td>21.076429</td>\n",
       "      <td>21.464287</td>\n",
       "      <td>21.071428</td>\n",
       "      <td>21.462856</td>\n",
       "      <td>18.904810</td>\n",
       "      <td>287067200.0</td>\n",
       "      <td>14.20</td>\n",
       "    </tr>\n",
       "    <tr>\n",
       "      <th>2014-05-06</th>\n",
       "      <td>21.492857</td>\n",
       "      <td>21.586071</td>\n",
       "      <td>21.228930</td>\n",
       "      <td>21.228930</td>\n",
       "      <td>18.698767</td>\n",
       "      <td>374564400.0</td>\n",
       "      <td>13.90</td>\n",
       "    </tr>\n",
       "  </tbody>\n",
       "</table>\n",
       "</div>"
      ],
      "text/plain": [
       "                 Open       High        Low      Close  Adj Close  \\\n",
       "Date                                                                \n",
       "2014-04-30  21.165714  21.408215  21.064285  21.074642  18.562872   \n",
       "2014-05-01  21.142857  21.242857  20.941429  21.124287  18.606590   \n",
       "2014-05-02  21.155001  21.221430  21.061071  21.163570  18.641197   \n",
       "2014-05-05  21.076429  21.464287  21.071428  21.462856  18.904810   \n",
       "2014-05-06  21.492857  21.586071  21.228930  21.228930  18.698767   \n",
       "\n",
       "                 Volume  Fear_index  \n",
       "Date                                 \n",
       "2014-04-30  456640800.0       14.18  \n",
       "2014-05-01  244048000.0       13.75  \n",
       "2014-05-02  191514400.0       13.50  \n",
       "2014-05-05  287067200.0       14.20  \n",
       "2014-05-06  374564400.0       13.90  "
      ]
     },
     "execution_count": 922,
     "metadata": {},
     "output_type": "execute_result"
    }
   ],
   "source": [
    "concatenate_df.head()"
   ]
  },
  {
   "cell_type": "code",
   "execution_count": 923,
   "id": "efb296a4-1de0-47f6-b8f4-2705a2884eb1",
   "metadata": {
    "tags": []
   },
   "outputs": [
    {
     "data": {
      "text/html": [
       "<div>\n",
       "<style scoped>\n",
       "    .dataframe tbody tr th:only-of-type {\n",
       "        vertical-align: middle;\n",
       "    }\n",
       "\n",
       "    .dataframe tbody tr th {\n",
       "        vertical-align: top;\n",
       "    }\n",
       "\n",
       "    .dataframe thead th {\n",
       "        text-align: right;\n",
       "    }\n",
       "</style>\n",
       "<table border=\"1\" class=\"dataframe\">\n",
       "  <thead>\n",
       "    <tr style=\"text-align: right;\">\n",
       "      <th></th>\n",
       "      <th>Open</th>\n",
       "      <th>High</th>\n",
       "      <th>Low</th>\n",
       "      <th>Close</th>\n",
       "      <th>Adj Close</th>\n",
       "      <th>Volume</th>\n",
       "      <th>Fear_index</th>\n",
       "      <th>Spy_index</th>\n",
       "    </tr>\n",
       "    <tr>\n",
       "      <th>Date</th>\n",
       "      <th></th>\n",
       "      <th></th>\n",
       "      <th></th>\n",
       "      <th></th>\n",
       "      <th></th>\n",
       "      <th></th>\n",
       "      <th></th>\n",
       "      <th></th>\n",
       "    </tr>\n",
       "  </thead>\n",
       "  <tbody>\n",
       "    <tr>\n",
       "      <th>2014-04-30</th>\n",
       "      <td>21.165714</td>\n",
       "      <td>21.408215</td>\n",
       "      <td>21.064285</td>\n",
       "      <td>21.074642</td>\n",
       "      <td>18.562872</td>\n",
       "      <td>456640800.0</td>\n",
       "      <td>14.18</td>\n",
       "      <td>188.500000</td>\n",
       "    </tr>\n",
       "    <tr>\n",
       "      <th>2014-05-01</th>\n",
       "      <td>21.142857</td>\n",
       "      <td>21.242857</td>\n",
       "      <td>20.941429</td>\n",
       "      <td>21.124287</td>\n",
       "      <td>18.606590</td>\n",
       "      <td>244048000.0</td>\n",
       "      <td>13.75</td>\n",
       "      <td>188.839996</td>\n",
       "    </tr>\n",
       "    <tr>\n",
       "      <th>2014-05-02</th>\n",
       "      <td>21.155001</td>\n",
       "      <td>21.221430</td>\n",
       "      <td>21.061071</td>\n",
       "      <td>21.163570</td>\n",
       "      <td>18.641197</td>\n",
       "      <td>191514400.0</td>\n",
       "      <td>13.50</td>\n",
       "      <td>189.139999</td>\n",
       "    </tr>\n",
       "    <tr>\n",
       "      <th>2014-05-05</th>\n",
       "      <td>21.076429</td>\n",
       "      <td>21.464287</td>\n",
       "      <td>21.071428</td>\n",
       "      <td>21.462856</td>\n",
       "      <td>18.904810</td>\n",
       "      <td>287067200.0</td>\n",
       "      <td>14.20</td>\n",
       "      <td>188.550003</td>\n",
       "    </tr>\n",
       "    <tr>\n",
       "      <th>2014-05-06</th>\n",
       "      <td>21.492857</td>\n",
       "      <td>21.586071</td>\n",
       "      <td>21.228930</td>\n",
       "      <td>21.228930</td>\n",
       "      <td>18.698767</td>\n",
       "      <td>374564400.0</td>\n",
       "      <td>13.90</td>\n",
       "      <td>188.130005</td>\n",
       "    </tr>\n",
       "  </tbody>\n",
       "</table>\n",
       "</div>"
      ],
      "text/plain": [
       "                 Open       High        Low      Close  Adj Close  \\\n",
       "Date                                                                \n",
       "2014-04-30  21.165714  21.408215  21.064285  21.074642  18.562872   \n",
       "2014-05-01  21.142857  21.242857  20.941429  21.124287  18.606590   \n",
       "2014-05-02  21.155001  21.221430  21.061071  21.163570  18.641197   \n",
       "2014-05-05  21.076429  21.464287  21.071428  21.462856  18.904810   \n",
       "2014-05-06  21.492857  21.586071  21.228930  21.228930  18.698767   \n",
       "\n",
       "                 Volume  Fear_index   Spy_index  \n",
       "Date                                             \n",
       "2014-04-30  456640800.0       14.18  188.500000  \n",
       "2014-05-01  244048000.0       13.75  188.839996  \n",
       "2014-05-02  191514400.0       13.50  189.139999  \n",
       "2014-05-05  287067200.0       14.20  188.550003  \n",
       "2014-05-06  374564400.0       13.90  188.130005  "
      ]
     },
     "execution_count": 923,
     "metadata": {},
     "output_type": "execute_result"
    }
   ],
   "source": [
    "concatenate_df_2 = pd.concat([concatenate_df, spy_index_df['Spy_index']], axis = 1)\n",
    "\n",
    "concatenate_df_2.head()"
   ]
  },
  {
   "cell_type": "code",
   "execution_count": 924,
   "id": "57745de4-8c85-473d-906a-fe13d6e8d12f",
   "metadata": {
    "tags": []
   },
   "outputs": [
    {
     "data": {
      "text/html": [
       "<div>\n",
       "<style scoped>\n",
       "    .dataframe tbody tr th:only-of-type {\n",
       "        vertical-align: middle;\n",
       "    }\n",
       "\n",
       "    .dataframe tbody tr th {\n",
       "        vertical-align: top;\n",
       "    }\n",
       "\n",
       "    .dataframe thead th {\n",
       "        text-align: right;\n",
       "    }\n",
       "</style>\n",
       "<table border=\"1\" class=\"dataframe\">\n",
       "  <thead>\n",
       "    <tr style=\"text-align: right;\">\n",
       "      <th></th>\n",
       "      <th>Open</th>\n",
       "      <th>High</th>\n",
       "      <th>Low</th>\n",
       "      <th>Close</th>\n",
       "      <th>Adj Close</th>\n",
       "      <th>Volume</th>\n",
       "      <th>Fear_index</th>\n",
       "      <th>Spy_index</th>\n",
       "      <th>FEDFUNDS</th>\n",
       "    </tr>\n",
       "  </thead>\n",
       "  <tbody>\n",
       "    <tr>\n",
       "      <th>2014-04-30</th>\n",
       "      <td>21.165714</td>\n",
       "      <td>21.408215</td>\n",
       "      <td>21.064285</td>\n",
       "      <td>21.074642</td>\n",
       "      <td>18.562872</td>\n",
       "      <td>456640800.0</td>\n",
       "      <td>14.18</td>\n",
       "      <td>188.500000</td>\n",
       "      <td>0.09</td>\n",
       "    </tr>\n",
       "    <tr>\n",
       "      <th>2014-05-01</th>\n",
       "      <td>21.142857</td>\n",
       "      <td>21.242857</td>\n",
       "      <td>20.941429</td>\n",
       "      <td>21.124287</td>\n",
       "      <td>18.606590</td>\n",
       "      <td>244048000.0</td>\n",
       "      <td>13.75</td>\n",
       "      <td>188.839996</td>\n",
       "      <td>0.09</td>\n",
       "    </tr>\n",
       "    <tr>\n",
       "      <th>2014-05-02</th>\n",
       "      <td>21.155001</td>\n",
       "      <td>21.221430</td>\n",
       "      <td>21.061071</td>\n",
       "      <td>21.163570</td>\n",
       "      <td>18.641197</td>\n",
       "      <td>191514400.0</td>\n",
       "      <td>13.50</td>\n",
       "      <td>189.139999</td>\n",
       "      <td>0.09</td>\n",
       "    </tr>\n",
       "    <tr>\n",
       "      <th>2014-05-05</th>\n",
       "      <td>21.076429</td>\n",
       "      <td>21.464287</td>\n",
       "      <td>21.071428</td>\n",
       "      <td>21.462856</td>\n",
       "      <td>18.904810</td>\n",
       "      <td>287067200.0</td>\n",
       "      <td>14.20</td>\n",
       "      <td>188.550003</td>\n",
       "      <td>0.09</td>\n",
       "    </tr>\n",
       "    <tr>\n",
       "      <th>2014-05-06</th>\n",
       "      <td>21.492857</td>\n",
       "      <td>21.586071</td>\n",
       "      <td>21.228930</td>\n",
       "      <td>21.228930</td>\n",
       "      <td>18.698767</td>\n",
       "      <td>374564400.0</td>\n",
       "      <td>13.90</td>\n",
       "      <td>188.130005</td>\n",
       "      <td>0.09</td>\n",
       "    </tr>\n",
       "  </tbody>\n",
       "</table>\n",
       "</div>"
      ],
      "text/plain": [
       "                 Open       High        Low      Close  Adj Close  \\\n",
       "2014-04-30  21.165714  21.408215  21.064285  21.074642  18.562872   \n",
       "2014-05-01  21.142857  21.242857  20.941429  21.124287  18.606590   \n",
       "2014-05-02  21.155001  21.221430  21.061071  21.163570  18.641197   \n",
       "2014-05-05  21.076429  21.464287  21.071428  21.462856  18.904810   \n",
       "2014-05-06  21.492857  21.586071  21.228930  21.228930  18.698767   \n",
       "\n",
       "                 Volume  Fear_index   Spy_index  FEDFUNDS  \n",
       "2014-04-30  456640800.0       14.18  188.500000      0.09  \n",
       "2014-05-01  244048000.0       13.75  188.839996      0.09  \n",
       "2014-05-02  191514400.0       13.50  189.139999      0.09  \n",
       "2014-05-05  287067200.0       14.20  188.550003      0.09  \n",
       "2014-05-06  374564400.0       13.90  188.130005      0.09  "
      ]
     },
     "execution_count": 924,
     "metadata": {},
     "output_type": "execute_result"
    }
   ],
   "source": [
    "# Convert index of concatenate_df_2 to datetime\n",
    "concatenate_df_2.index = pd.to_datetime(concatenate_df_2.index)\n",
    "\n",
    "# Ensure both DataFrames have matching date ranges up to April 1, 2024\n",
    "concatenate_df_2 = concatenate_df_2[concatenate_df_2.index <= '2024-04-01']\n",
    "\n",
    "# Attempt the merge operation again\n",
    "concatenated_df = pd.merge(concatenate_df_2, fedfunds_df_monthly, left_index=True, right_index=True)\n",
    "\n",
    "# Display the merged DataFrame\n",
    "concatenated_df.head()\n",
    "\n"
   ]
  },
  {
   "cell_type": "code",
   "execution_count": 925,
   "id": "4dec72fe-38b5-4733-b7dd-382f1d4d518c",
   "metadata": {
    "tags": []
   },
   "outputs": [
    {
     "data": {
      "text/html": [
       "<div>\n",
       "<style scoped>\n",
       "    .dataframe tbody tr th:only-of-type {\n",
       "        vertical-align: middle;\n",
       "    }\n",
       "\n",
       "    .dataframe tbody tr th {\n",
       "        vertical-align: top;\n",
       "    }\n",
       "\n",
       "    .dataframe thead th {\n",
       "        text-align: right;\n",
       "    }\n",
       "</style>\n",
       "<table border=\"1\" class=\"dataframe\">\n",
       "  <thead>\n",
       "    <tr style=\"text-align: right;\">\n",
       "      <th></th>\n",
       "      <th>Open</th>\n",
       "      <th>High</th>\n",
       "      <th>Low</th>\n",
       "      <th>Close</th>\n",
       "      <th>Adj Close</th>\n",
       "      <th>Volume</th>\n",
       "      <th>Fear_index</th>\n",
       "      <th>Spy_index</th>\n",
       "      <th>FEDFUNDS</th>\n",
       "    </tr>\n",
       "  </thead>\n",
       "  <tbody>\n",
       "    <tr>\n",
       "      <th>2014-04-30</th>\n",
       "      <td>21.165714</td>\n",
       "      <td>21.408215</td>\n",
       "      <td>21.064285</td>\n",
       "      <td>21.074642</td>\n",
       "      <td>18.562872</td>\n",
       "      <td>456640800.0</td>\n",
       "      <td>14.18</td>\n",
       "      <td>188.500000</td>\n",
       "      <td>0.09</td>\n",
       "    </tr>\n",
       "    <tr>\n",
       "      <th>2014-05-01</th>\n",
       "      <td>21.142857</td>\n",
       "      <td>21.242857</td>\n",
       "      <td>20.941429</td>\n",
       "      <td>21.124287</td>\n",
       "      <td>18.606590</td>\n",
       "      <td>244048000.0</td>\n",
       "      <td>13.75</td>\n",
       "      <td>188.839996</td>\n",
       "      <td>0.09</td>\n",
       "    </tr>\n",
       "    <tr>\n",
       "      <th>2014-05-02</th>\n",
       "      <td>21.155001</td>\n",
       "      <td>21.221430</td>\n",
       "      <td>21.061071</td>\n",
       "      <td>21.163570</td>\n",
       "      <td>18.641197</td>\n",
       "      <td>191514400.0</td>\n",
       "      <td>13.50</td>\n",
       "      <td>189.139999</td>\n",
       "      <td>0.09</td>\n",
       "    </tr>\n",
       "    <tr>\n",
       "      <th>2014-05-05</th>\n",
       "      <td>21.076429</td>\n",
       "      <td>21.464287</td>\n",
       "      <td>21.071428</td>\n",
       "      <td>21.462856</td>\n",
       "      <td>18.904810</td>\n",
       "      <td>287067200.0</td>\n",
       "      <td>14.20</td>\n",
       "      <td>188.550003</td>\n",
       "      <td>0.09</td>\n",
       "    </tr>\n",
       "    <tr>\n",
       "      <th>2014-05-06</th>\n",
       "      <td>21.492857</td>\n",
       "      <td>21.586071</td>\n",
       "      <td>21.228930</td>\n",
       "      <td>21.228930</td>\n",
       "      <td>18.698767</td>\n",
       "      <td>374564400.0</td>\n",
       "      <td>13.90</td>\n",
       "      <td>188.130005</td>\n",
       "      <td>0.09</td>\n",
       "    </tr>\n",
       "  </tbody>\n",
       "</table>\n",
       "</div>"
      ],
      "text/plain": [
       "                 Open       High        Low      Close  Adj Close  \\\n",
       "2014-04-30  21.165714  21.408215  21.064285  21.074642  18.562872   \n",
       "2014-05-01  21.142857  21.242857  20.941429  21.124287  18.606590   \n",
       "2014-05-02  21.155001  21.221430  21.061071  21.163570  18.641197   \n",
       "2014-05-05  21.076429  21.464287  21.071428  21.462856  18.904810   \n",
       "2014-05-06  21.492857  21.586071  21.228930  21.228930  18.698767   \n",
       "\n",
       "                 Volume  Fear_index   Spy_index  FEDFUNDS  \n",
       "2014-04-30  456640800.0       14.18  188.500000      0.09  \n",
       "2014-05-01  244048000.0       13.75  188.839996      0.09  \n",
       "2014-05-02  191514400.0       13.50  189.139999      0.09  \n",
       "2014-05-05  287067200.0       14.20  188.550003      0.09  \n",
       "2014-05-06  374564400.0       13.90  188.130005      0.09  "
      ]
     },
     "execution_count": 925,
     "metadata": {},
     "output_type": "execute_result"
    }
   ],
   "source": [
    "concatenated_df.head()"
   ]
  },
  {
   "cell_type": "code",
   "execution_count": 926,
   "id": "7694eb8d-343c-4c7f-b138-3bbddfede847",
   "metadata": {
    "tags": []
   },
   "outputs": [],
   "source": [
    "# Drop all rows containing NaN values\n",
    "concatenated_df = concatenated_df.dropna()"
   ]
  },
  {
   "cell_type": "code",
   "execution_count": 927,
   "id": "91285ea4-6cac-427a-8b66-99a36d458112",
   "metadata": {
    "tags": []
   },
   "outputs": [
    {
     "data": {
      "text/html": [
       "<div>\n",
       "<style scoped>\n",
       "    .dataframe tbody tr th:only-of-type {\n",
       "        vertical-align: middle;\n",
       "    }\n",
       "\n",
       "    .dataframe tbody tr th {\n",
       "        vertical-align: top;\n",
       "    }\n",
       "\n",
       "    .dataframe thead th {\n",
       "        text-align: right;\n",
       "    }\n",
       "</style>\n",
       "<table border=\"1\" class=\"dataframe\">\n",
       "  <thead>\n",
       "    <tr style=\"text-align: right;\">\n",
       "      <th></th>\n",
       "      <th>Open</th>\n",
       "      <th>High</th>\n",
       "      <th>Low</th>\n",
       "      <th>Close</th>\n",
       "      <th>Adj Close</th>\n",
       "      <th>Volume</th>\n",
       "      <th>Fear_index</th>\n",
       "      <th>Spy_index</th>\n",
       "      <th>FEDFUNDS</th>\n",
       "    </tr>\n",
       "  </thead>\n",
       "  <tbody>\n",
       "    <tr>\n",
       "      <th>2024-03-25</th>\n",
       "      <td>170.570007</td>\n",
       "      <td>171.940002</td>\n",
       "      <td>169.449997</td>\n",
       "      <td>170.850006</td>\n",
       "      <td>170.850006</td>\n",
       "      <td>54288300.0</td>\n",
       "      <td>13.67</td>\n",
       "      <td>520.950012</td>\n",
       "      <td>5.33</td>\n",
       "    </tr>\n",
       "    <tr>\n",
       "      <th>2024-03-26</th>\n",
       "      <td>170.000000</td>\n",
       "      <td>171.419998</td>\n",
       "      <td>169.580002</td>\n",
       "      <td>169.710007</td>\n",
       "      <td>169.710007</td>\n",
       "      <td>57388400.0</td>\n",
       "      <td>13.43</td>\n",
       "      <td>521.580017</td>\n",
       "      <td>5.33</td>\n",
       "    </tr>\n",
       "    <tr>\n",
       "      <th>2024-03-27</th>\n",
       "      <td>170.410004</td>\n",
       "      <td>173.600006</td>\n",
       "      <td>170.110001</td>\n",
       "      <td>173.309998</td>\n",
       "      <td>173.309998</td>\n",
       "      <td>60273300.0</td>\n",
       "      <td>13.34</td>\n",
       "      <td>523.210022</td>\n",
       "      <td>5.33</td>\n",
       "    </tr>\n",
       "    <tr>\n",
       "      <th>2024-03-28</th>\n",
       "      <td>171.750000</td>\n",
       "      <td>172.229996</td>\n",
       "      <td>170.509995</td>\n",
       "      <td>171.479996</td>\n",
       "      <td>171.479996</td>\n",
       "      <td>65672700.0</td>\n",
       "      <td>13.10</td>\n",
       "      <td>524.609985</td>\n",
       "      <td>5.33</td>\n",
       "    </tr>\n",
       "    <tr>\n",
       "      <th>2024-04-01</th>\n",
       "      <td>171.190002</td>\n",
       "      <td>171.250000</td>\n",
       "      <td>169.479996</td>\n",
       "      <td>170.029999</td>\n",
       "      <td>170.029999</td>\n",
       "      <td>46240500.0</td>\n",
       "      <td>14.15</td>\n",
       "      <td>524.380005</td>\n",
       "      <td>5.33</td>\n",
       "    </tr>\n",
       "  </tbody>\n",
       "</table>\n",
       "</div>"
      ],
      "text/plain": [
       "                  Open        High         Low       Close   Adj Close  \\\n",
       "2024-03-25  170.570007  171.940002  169.449997  170.850006  170.850006   \n",
       "2024-03-26  170.000000  171.419998  169.580002  169.710007  169.710007   \n",
       "2024-03-27  170.410004  173.600006  170.110001  173.309998  173.309998   \n",
       "2024-03-28  171.750000  172.229996  170.509995  171.479996  171.479996   \n",
       "2024-04-01  171.190002  171.250000  169.479996  170.029999  170.029999   \n",
       "\n",
       "                Volume  Fear_index   Spy_index  FEDFUNDS  \n",
       "2024-03-25  54288300.0       13.67  520.950012      5.33  \n",
       "2024-03-26  57388400.0       13.43  521.580017      5.33  \n",
       "2024-03-27  60273300.0       13.34  523.210022      5.33  \n",
       "2024-03-28  65672700.0       13.10  524.609985      5.33  \n",
       "2024-04-01  46240500.0       14.15  524.380005      5.33  "
      ]
     },
     "execution_count": 927,
     "metadata": {},
     "output_type": "execute_result"
    }
   ],
   "source": [
    "concatenated_df.tail()"
   ]
  },
  {
   "cell_type": "code",
   "execution_count": 928,
   "id": "1de62467-3e1a-4bbb-be12-dd4da51fc012",
   "metadata": {
    "tags": []
   },
   "outputs": [
    {
     "data": {
      "text/html": [
       "<div>\n",
       "<style scoped>\n",
       "    .dataframe tbody tr th:only-of-type {\n",
       "        vertical-align: middle;\n",
       "    }\n",
       "\n",
       "    .dataframe tbody tr th {\n",
       "        vertical-align: top;\n",
       "    }\n",
       "\n",
       "    .dataframe thead th {\n",
       "        text-align: right;\n",
       "    }\n",
       "</style>\n",
       "<table border=\"1\" class=\"dataframe\">\n",
       "  <thead>\n",
       "    <tr style=\"text-align: right;\">\n",
       "      <th></th>\n",
       "      <th>Open</th>\n",
       "      <th>High</th>\n",
       "      <th>Low</th>\n",
       "      <th>Close</th>\n",
       "      <th>Adj Close</th>\n",
       "    </tr>\n",
       "  </thead>\n",
       "  <tbody>\n",
       "    <tr>\n",
       "      <th>2014-04-30</th>\n",
       "      <td>21.165714</td>\n",
       "      <td>21.408215</td>\n",
       "      <td>21.064285</td>\n",
       "      <td>21.074642</td>\n",
       "      <td>18.562872</td>\n",
       "    </tr>\n",
       "    <tr>\n",
       "      <th>2014-05-01</th>\n",
       "      <td>21.142857</td>\n",
       "      <td>21.242857</td>\n",
       "      <td>20.941429</td>\n",
       "      <td>21.124287</td>\n",
       "      <td>18.606590</td>\n",
       "    </tr>\n",
       "    <tr>\n",
       "      <th>2014-05-02</th>\n",
       "      <td>21.155001</td>\n",
       "      <td>21.221430</td>\n",
       "      <td>21.061071</td>\n",
       "      <td>21.163570</td>\n",
       "      <td>18.641197</td>\n",
       "    </tr>\n",
       "    <tr>\n",
       "      <th>2014-05-05</th>\n",
       "      <td>21.076429</td>\n",
       "      <td>21.464287</td>\n",
       "      <td>21.071428</td>\n",
       "      <td>21.462856</td>\n",
       "      <td>18.904810</td>\n",
       "    </tr>\n",
       "    <tr>\n",
       "      <th>2014-05-06</th>\n",
       "      <td>21.492857</td>\n",
       "      <td>21.586071</td>\n",
       "      <td>21.228930</td>\n",
       "      <td>21.228930</td>\n",
       "      <td>18.698767</td>\n",
       "    </tr>\n",
       "  </tbody>\n",
       "</table>\n",
       "</div>"
      ],
      "text/plain": [
       "                 Open       High        Low      Close  Adj Close\n",
       "2014-04-30  21.165714  21.408215  21.064285  21.074642  18.562872\n",
       "2014-05-01  21.142857  21.242857  20.941429  21.124287  18.606590\n",
       "2014-05-02  21.155001  21.221430  21.061071  21.163570  18.641197\n",
       "2014-05-05  21.076429  21.464287  21.071428  21.462856  18.904810\n",
       "2014-05-06  21.492857  21.586071  21.228930  21.228930  18.698767"
      ]
     },
     "execution_count": 928,
     "metadata": {},
     "output_type": "execute_result"
    }
   ],
   "source": [
    "columns_to_drop = ['Volume', 'Fear_index', 'Spy_index', 'FEDFUNDS']\n",
    "concatenated_df = concatenated_df.drop(columns=columns_to_drop)\n",
    "concatenated_df.head()"
   ]
  },
  {
   "cell_type": "code",
   "execution_count": 929,
   "id": "4f1ffbd3-bd2d-4ee3-8f4d-4bea95190693",
   "metadata": {
    "colab": {
     "base_uri": "https://localhost:8080/",
     "height": 235
    },
    "executionInfo": {
     "elapsed": 229,
     "status": "ok",
     "timestamp": 1714788316011,
     "user": {
      "displayName": "Anthony Abushacra",
      "userId": "15974448273641783248"
     },
     "user_tz": 420
    },
    "id": "4f1ffbd3-bd2d-4ee3-8f4d-4bea95190693",
    "outputId": "9a54e895-cfdb-4d81-de5b-11f089caa581",
    "tags": []
   },
   "outputs": [
    {
     "data": {
      "text/html": [
       "<div>\n",
       "<style scoped>\n",
       "    .dataframe tbody tr th:only-of-type {\n",
       "        vertical-align: middle;\n",
       "    }\n",
       "\n",
       "    .dataframe tbody tr th {\n",
       "        vertical-align: top;\n",
       "    }\n",
       "\n",
       "    .dataframe thead th {\n",
       "        text-align: right;\n",
       "    }\n",
       "</style>\n",
       "<table border=\"1\" class=\"dataframe\">\n",
       "  <thead>\n",
       "    <tr style=\"text-align: right;\">\n",
       "      <th></th>\n",
       "      <th>Open</th>\n",
       "      <th>Low</th>\n",
       "      <th>Close</th>\n",
       "      <th>Adj Close</th>\n",
       "    </tr>\n",
       "  </thead>\n",
       "  <tbody>\n",
       "    <tr>\n",
       "      <th>2024-03-25</th>\n",
       "      <td>170.570007</td>\n",
       "      <td>169.449997</td>\n",
       "      <td>170.850006</td>\n",
       "      <td>170.850006</td>\n",
       "    </tr>\n",
       "    <tr>\n",
       "      <th>2024-03-26</th>\n",
       "      <td>170.000000</td>\n",
       "      <td>169.580002</td>\n",
       "      <td>169.710007</td>\n",
       "      <td>169.710007</td>\n",
       "    </tr>\n",
       "    <tr>\n",
       "      <th>2024-03-27</th>\n",
       "      <td>170.410004</td>\n",
       "      <td>170.110001</td>\n",
       "      <td>173.309998</td>\n",
       "      <td>173.309998</td>\n",
       "    </tr>\n",
       "    <tr>\n",
       "      <th>2024-03-28</th>\n",
       "      <td>171.750000</td>\n",
       "      <td>170.509995</td>\n",
       "      <td>171.479996</td>\n",
       "      <td>171.479996</td>\n",
       "    </tr>\n",
       "    <tr>\n",
       "      <th>2024-04-01</th>\n",
       "      <td>171.190002</td>\n",
       "      <td>169.479996</td>\n",
       "      <td>170.029999</td>\n",
       "      <td>170.029999</td>\n",
       "    </tr>\n",
       "  </tbody>\n",
       "</table>\n",
       "</div>"
      ],
      "text/plain": [
       "                  Open         Low       Close   Adj Close\n",
       "2024-03-25  170.570007  169.449997  170.850006  170.850006\n",
       "2024-03-26  170.000000  169.580002  169.710007  169.710007\n",
       "2024-03-27  170.410004  170.110001  173.309998  173.309998\n",
       "2024-03-28  171.750000  170.509995  171.479996  171.479996\n",
       "2024-04-01  171.190002  169.479996  170.029999  170.029999"
      ]
     },
     "execution_count": 929,
     "metadata": {},
     "output_type": "execute_result"
    }
   ],
   "source": [
    "# Define features set\n",
    "X = concatenated_df.copy()\n",
    "X.drop(\"High\",axis=1, inplace=True)\n",
    "X.tail()\n",
    "\n"
   ]
  },
  {
   "cell_type": "code",
   "execution_count": 930,
   "id": "b4f47e02-0205-49a7-b1de-74e06bebd36a",
   "metadata": {
    "colab": {
     "base_uri": "https://localhost:8080/"
    },
    "executionInfo": {
     "elapsed": 16,
     "status": "ok",
     "timestamp": 1714788316012,
     "user": {
      "displayName": "Anthony Abushacra",
      "userId": "15974448273641783248"
     },
     "user_tz": 420
    },
    "id": "b4f47e02-0205-49a7-b1de-74e06bebd36a",
    "outputId": "3b97bf49-e2e7-4294-abfa-eae745537809",
    "tags": []
   },
   "outputs": [
    {
     "data": {
      "text/plain": [
       "2014-04-30    21.408215\n",
       "2014-05-01    21.242857\n",
       "2014-05-02    21.221430\n",
       "2014-05-05    21.464287\n",
       "2014-05-06    21.586071\n",
       "Name: High, dtype: float64"
      ]
     },
     "execution_count": 930,
     "metadata": {},
     "output_type": "execute_result"
    }
   ],
   "source": [
    "# Define target vector\n",
    "y = concatenated_df[\"High\"]\n",
    "y[:5]"
   ]
  },
  {
   "cell_type": "code",
   "execution_count": 931,
   "id": "I2QYvsJYOu5o",
   "metadata": {
    "colab": {
     "base_uri": "https://localhost:8080/"
    },
    "executionInfo": {
     "elapsed": 13,
     "status": "ok",
     "timestamp": 1714788316012,
     "user": {
      "displayName": "Anthony Abushacra",
      "userId": "15974448273641783248"
     },
     "user_tz": 420
    },
    "id": "I2QYvsJYOu5o",
    "outputId": "62f93b93-5f4b-4299-f677-882f00947a8f",
    "tags": []
   },
   "outputs": [
    {
     "name": "stdout",
     "output_type": "stream",
     "text": [
      "Train: 2014-04-30 00:00:00 2021-08-30 00:00:00\n",
      "Test: 2021-08-31 00:00:00 2024-04-01 00:00:00\n"
     ]
    }
   ],
   "source": [
    "date_cutoff = \"2022-04-30\"\n",
    "X_train_df = X[X.index <= date_cutoff]\n",
    "X_test_df = X[X.index > date_cutoff]\n",
    "\n",
    "print(\"Train:\", X_train_df.index.min(), X_train_df.index.max())\n",
    "print(\"Test:\", X_test_df.index.min(), X_test_df.index.max())"
   ]
  },
  {
   "cell_type": "code",
   "execution_count": 932,
   "id": "lPJJA0wTSxM_",
   "metadata": {
    "colab": {
     "base_uri": "https://localhost:8080/"
    },
    "executionInfo": {
     "elapsed": 9,
     "status": "ok",
     "timestamp": 1714788316013,
     "user": {
      "displayName": "Anthony Abushacra",
      "userId": "15974448273641783248"
     },
     "user_tz": 420
    },
    "id": "lPJJA0wTSxM_",
    "outputId": "2750d01e-2c30-4d36-f09a-b2ef6c7fcc84",
    "tags": []
   },
   "outputs": [
    {
     "name": "stdout",
     "output_type": "stream",
     "text": [
      "Train: 2014-04-30 00:00:00 2021-08-30 00:00:00\n",
      "Test: 2021-08-31 00:00:00 2024-04-01 00:00:00\n"
     ]
    }
   ],
   "source": [
    "y_train_df = y[y.index <= date_cutoff]\n",
    "y_test_df = y[y.index > date_cutoff]\n",
    "\n",
    "print(\"Train:\", y_train_df.index.min(), y_train_df.index.max())\n",
    "print(\"Test:\", y_test_df.index.min(), y_test_df.index.max())"
   ]
  },
  {
   "cell_type": "code",
   "execution_count": 933,
   "id": "997d726d-1e85-4619-a0b4-1de8069ddcbd",
   "metadata": {
    "executionInfo": {
     "elapsed": 8,
     "status": "ok",
     "timestamp": 1714788316221,
     "user": {
      "displayName": "Anthony Abushacra",
      "userId": "15974448273641783248"
     },
     "user_tz": 420
    },
    "id": "997d726d-1e85-4619-a0b4-1de8069ddcbd",
    "tags": []
   },
   "outputs": [],
   "source": [
    "# Creating StandardScaler instance\n",
    "scaler = StandardScaler()"
   ]
  },
  {
   "cell_type": "code",
   "execution_count": 934,
   "id": "e93e0009-f9cb-4c63-a95c-89f84fa0efe7",
   "metadata": {
    "executionInfo": {
     "elapsed": 8,
     "status": "ok",
     "timestamp": 1714788316221,
     "user": {
      "displayName": "Anthony Abushacra",
      "userId": "15974448273641783248"
     },
     "user_tz": 420
    },
    "id": "e93e0009-f9cb-4c63-a95c-89f84fa0efe7",
    "tags": []
   },
   "outputs": [],
   "source": [
    "# Fitting Standard Scaler\n",
    "X_scaler = scaler.fit(X_train_df)"
   ]
  },
  {
   "cell_type": "code",
   "execution_count": 935,
   "id": "80e272b1-141f-4cfc-ae39-312d25c42976",
   "metadata": {
    "executionInfo": {
     "elapsed": 7,
     "status": "ok",
     "timestamp": 1714788316221,
     "user": {
      "displayName": "Anthony Abushacra",
      "userId": "15974448273641783248"
     },
     "user_tz": 420
    },
    "id": "80e272b1-141f-4cfc-ae39-312d25c42976",
    "tags": []
   },
   "outputs": [],
   "source": [
    "# Scaling data\n",
    "X_train_scaled = X_scaler.transform(X_train_df)\n",
    "X_test_scaled = X_scaler.transform(X_test_df)"
   ]
  },
  {
   "cell_type": "code",
   "execution_count": 936,
   "id": "43669d20-19e9-48da-a201-092cafad49df",
   "metadata": {
    "executionInfo": {
     "elapsed": 6,
     "status": "ok",
     "timestamp": 1714788316221,
     "user": {
      "displayName": "Anthony Abushacra",
      "userId": "15974448273641783248"
     },
     "user_tz": 420
    },
    "id": "43669d20-19e9-48da-a201-092cafad49df",
    "tags": []
   },
   "outputs": [],
   "source": [
    "# Create a Gradient Boosting classifier\n",
    "gb_model = GradientBoostingRegressor(n_estimators=100, learning_rate=0.1, random_state=42)"
   ]
  },
  {
   "cell_type": "code",
   "execution_count": 937,
   "id": "9c205d83-9a32-4a43-9468-48d22f2d5e4d",
   "metadata": {
    "colab": {
     "base_uri": "https://localhost:8080/",
     "height": 74
    },
    "executionInfo": {
     "elapsed": 934,
     "status": "ok",
     "timestamp": 1714788317150,
     "user": {
      "displayName": "Anthony Abushacra",
      "userId": "15974448273641783248"
     },
     "user_tz": 420
    },
    "id": "9c205d83-9a32-4a43-9468-48d22f2d5e4d",
    "outputId": "2d1a6426-9236-43bd-dc0b-9f02aff353c9",
    "tags": []
   },
   "outputs": [
    {
     "data": {
      "text/html": [
       "<style>#sk-container-id-31 {color: black;}#sk-container-id-31 pre{padding: 0;}#sk-container-id-31 div.sk-toggleable {background-color: white;}#sk-container-id-31 label.sk-toggleable__label {cursor: pointer;display: block;width: 100%;margin-bottom: 0;padding: 0.3em;box-sizing: border-box;text-align: center;}#sk-container-id-31 label.sk-toggleable__label-arrow:before {content: \"▸\";float: left;margin-right: 0.25em;color: #696969;}#sk-container-id-31 label.sk-toggleable__label-arrow:hover:before {color: black;}#sk-container-id-31 div.sk-estimator:hover label.sk-toggleable__label-arrow:before {color: black;}#sk-container-id-31 div.sk-toggleable__content {max-height: 0;max-width: 0;overflow: hidden;text-align: left;background-color: #f0f8ff;}#sk-container-id-31 div.sk-toggleable__content pre {margin: 0.2em;color: black;border-radius: 0.25em;background-color: #f0f8ff;}#sk-container-id-31 input.sk-toggleable__control:checked~div.sk-toggleable__content {max-height: 200px;max-width: 100%;overflow: auto;}#sk-container-id-31 input.sk-toggleable__control:checked~label.sk-toggleable__label-arrow:before {content: \"▾\";}#sk-container-id-31 div.sk-estimator input.sk-toggleable__control:checked~label.sk-toggleable__label {background-color: #d4ebff;}#sk-container-id-31 div.sk-label input.sk-toggleable__control:checked~label.sk-toggleable__label {background-color: #d4ebff;}#sk-container-id-31 input.sk-hidden--visually {border: 0;clip: rect(1px 1px 1px 1px);clip: rect(1px, 1px, 1px, 1px);height: 1px;margin: -1px;overflow: hidden;padding: 0;position: absolute;width: 1px;}#sk-container-id-31 div.sk-estimator {font-family: monospace;background-color: #f0f8ff;border: 1px dotted black;border-radius: 0.25em;box-sizing: border-box;margin-bottom: 0.5em;}#sk-container-id-31 div.sk-estimator:hover {background-color: #d4ebff;}#sk-container-id-31 div.sk-parallel-item::after {content: \"\";width: 100%;border-bottom: 1px solid gray;flex-grow: 1;}#sk-container-id-31 div.sk-label:hover label.sk-toggleable__label {background-color: #d4ebff;}#sk-container-id-31 div.sk-serial::before {content: \"\";position: absolute;border-left: 1px solid gray;box-sizing: border-box;top: 0;bottom: 0;left: 50%;z-index: 0;}#sk-container-id-31 div.sk-serial {display: flex;flex-direction: column;align-items: center;background-color: white;padding-right: 0.2em;padding-left: 0.2em;position: relative;}#sk-container-id-31 div.sk-item {position: relative;z-index: 1;}#sk-container-id-31 div.sk-parallel {display: flex;align-items: stretch;justify-content: center;background-color: white;position: relative;}#sk-container-id-31 div.sk-item::before, #sk-container-id-31 div.sk-parallel-item::before {content: \"\";position: absolute;border-left: 1px solid gray;box-sizing: border-box;top: 0;bottom: 0;left: 50%;z-index: -1;}#sk-container-id-31 div.sk-parallel-item {display: flex;flex-direction: column;z-index: 1;position: relative;background-color: white;}#sk-container-id-31 div.sk-parallel-item:first-child::after {align-self: flex-end;width: 50%;}#sk-container-id-31 div.sk-parallel-item:last-child::after {align-self: flex-start;width: 50%;}#sk-container-id-31 div.sk-parallel-item:only-child::after {width: 0;}#sk-container-id-31 div.sk-dashed-wrapped {border: 1px dashed gray;margin: 0 0.4em 0.5em 0.4em;box-sizing: border-box;padding-bottom: 0.4em;background-color: white;}#sk-container-id-31 div.sk-label label {font-family: monospace;font-weight: bold;display: inline-block;line-height: 1.2em;}#sk-container-id-31 div.sk-label-container {text-align: center;}#sk-container-id-31 div.sk-container {/* jupyter's `normalize.less` sets `[hidden] { display: none; }` but bootstrap.min.css set `[hidden] { display: none !important; }` so we also need the `!important` here to be able to override the default hidden behavior on the sphinx rendered scikit-learn.org. See: https://github.com/scikit-learn/scikit-learn/issues/21755 */display: inline-block !important;position: relative;}#sk-container-id-31 div.sk-text-repr-fallback {display: none;}</style><div id=\"sk-container-id-31\" class=\"sk-top-container\"><div class=\"sk-text-repr-fallback\"><pre>GradientBoostingRegressor(random_state=42)</pre><b>In a Jupyter environment, please rerun this cell to show the HTML representation or trust the notebook. <br />On GitHub, the HTML representation is unable to render, please try loading this page with nbviewer.org.</b></div><div class=\"sk-container\" hidden><div class=\"sk-item\"><div class=\"sk-estimator sk-toggleable\"><input class=\"sk-toggleable__control sk-hidden--visually\" id=\"sk-estimator-id-31\" type=\"checkbox\" checked><label for=\"sk-estimator-id-31\" class=\"sk-toggleable__label sk-toggleable__label-arrow\">GradientBoostingRegressor</label><div class=\"sk-toggleable__content\"><pre>GradientBoostingRegressor(random_state=42)</pre></div></div></div></div></div>"
      ],
      "text/plain": [
       "GradientBoostingRegressor(random_state=42)"
      ]
     },
     "execution_count": 937,
     "metadata": {},
     "output_type": "execute_result"
    }
   ],
   "source": [
    "# Fitting the model\n",
    "gb_model.fit(X_train_scaled, y_train_df)"
   ]
  },
  {
   "cell_type": "code",
   "execution_count": 938,
   "id": "a7e894d0-bbcd-4a8f-a4ff-07e3ce68d4af",
   "metadata": {
    "executionInfo": {
     "elapsed": 6,
     "status": "ok",
     "timestamp": 1714788317150,
     "user": {
      "displayName": "Anthony Abushacra",
      "userId": "15974448273641783248"
     },
     "user_tz": 420
    },
    "id": "a7e894d0-bbcd-4a8f-a4ff-07e3ce68d4af",
    "tags": []
   },
   "outputs": [],
   "source": [
    "# Making predictions using the testing data\n",
    "y_pred_gb_test = gb_model.predict(X_test_scaled)"
   ]
  },
  {
   "cell_type": "code",
   "execution_count": 939,
   "id": "bfe37987-14a6-4c5e-b696-d1e51d3a02c5",
   "metadata": {
    "tags": []
   },
   "outputs": [],
   "source": [
    "# Making predictions using the training data\n",
    "y_pred_gb_train = gb_model.predict(X_train_scaled)"
   ]
  },
  {
   "cell_type": "code",
   "execution_count": 940,
   "id": "23ef48e1-f84d-4ac8-912c-f49b5fcb1214",
   "metadata": {
    "colab": {
     "base_uri": "https://localhost:8080/"
    },
    "executionInfo": {
     "elapsed": 7,
     "status": "ok",
     "timestamp": 1714788358399,
     "user": {
      "displayName": "Anthony Abushacra",
      "userId": "15974448273641783248"
     },
     "user_tz": 420
    },
    "id": "23ef48e1-f84d-4ac8-912c-f49b5fcb1214",
    "outputId": "130dc03e-a9fc-4c5b-a32f-5e33b07153a8",
    "tags": []
   },
   "outputs": [
    {
     "name": "stdout",
     "output_type": "stream",
     "text": [
      "Mean Squared Error (MSE) - Gradient Boosting: 430.7141464880051\n",
      "Root Mean Squared Error (RMSE) - Gradient Boosting: 20.75365381054635\n",
      "R-squared (R2) Score - Gradient Boosting: -0.4454178030193616\n"
     ]
    }
   ],
   "source": [
    "mse_gb = mean_squared_error(y_test_df, y_pred_gb_test)\n",
    "rmse_gb = np.sqrt(mse_gb)\n",
    "r2_gb = r2_score(y_test_df, y_pred_gb_test)\n",
    "\n",
    "print(\"Mean Squared Error (MSE) - Gradient Boosting:\", mse_gb)\n",
    "print(\"Root Mean Squared Error (RMSE) - Gradient Boosting:\", rmse_gb)\n",
    "print(\"R-squared (R2) Score - Gradient Boosting:\", r2_gb)\n"
   ]
  },
  {
   "cell_type": "code",
   "execution_count": 910,
   "id": "95ef75c7-cc60-43cb-a9cf-9d2c499f76d0",
   "metadata": {
    "tags": []
   },
   "outputs": [
    {
     "name": "stdout",
     "output_type": "stream",
     "text": [
      "Mean Squared Error (MSE) - Gradient Boosting: 0.1082738264542952\n",
      "Root Mean Squared Error (RMSE) - Gradient Boosting: 0.3290498844465611\n",
      "R-squared (R2) Score - Gradient Boosting: 0.999911542590199\n"
     ]
    }
   ],
   "source": [
    "mse_gb = mean_squared_error(y_train_df, y_pred_gb_train)\n",
    "rmse_gb = np.sqrt(mse_gb)\n",
    "r2_gb = r2_score(y_train_df, y_pred_gb_train)\n",
    "\n",
    "print(\"Mean Squared Error (MSE) - Gradient Boosting:\", mse_gb)\n",
    "print(\"Root Mean Squared Error (RMSE) - Gradient Boosting:\", rmse_gb)\n",
    "print(\"R-squared (R2) Score - Gradient Boosting:\", r2_gb)"
   ]
  },
  {
   "cell_type": "code",
   "execution_count": 864,
   "id": "846e91d6-7561-4183-b919-45d4c3b216a2",
   "metadata": {
    "executionInfo": {
     "elapsed": 3,
     "status": "aborted",
     "timestamp": 1714788317415,
     "user": {
      "displayName": "Anthony Abushacra",
      "userId": "15974448273641783248"
     },
     "user_tz": 420
    },
    "id": "846e91d6-7561-4183-b919-45d4c3b216a2"
   },
   "outputs": [],
   "source": [
    "model = GradientBoostingRegressor() "
   ]
  },
  {
   "cell_type": "code",
   "execution_count": 865,
   "id": "e7c42ff9-4cab-435d-96a0-6741e9bdb9b0",
   "metadata": {
    "tags": []
   },
   "outputs": [
    {
     "name": "stdout",
     "output_type": "stream",
     "text": [
      "Average Cross-Validation MSE: 389.3182840493495\n"
     ]
    }
   ],
   "source": [
    "# Assuming X_train and y_train are your training data\n",
    "scores = cross_val_score(model, X_train_df, y_train_df, cv=5, scoring='neg_mean_squared_error')\n",
    "average_mse = -scores.mean()\n",
    "print(\"Average Cross-Validation MSE:\", average_mse)"
   ]
  },
  {
   "cell_type": "code",
   "execution_count": 866,
   "id": "2613ec2b-21dd-4bd9-9554-da1c24c0dcae",
   "metadata": {
    "tags": []
   },
   "outputs": [
    {
     "name": "stdout",
     "output_type": "stream",
     "text": [
      "Test MSE: 674.8790397764058\n"
     ]
    }
   ],
   "source": [
    "# Assuming you have X_train, y_train, X_val, y_val, X_test, y_test\n",
    "# Train the model on the training set\n",
    "model.fit(X_train_df, y_train_df)\n",
    "\n",
    "# Tune hyperparameters using the validation set (not shown here)\n",
    "\n",
    "# Evaluate final performance on the test set\n",
    "test_predictions = model.predict(X_test_df)\n",
    "test_mse = mean_squared_error(y_test_df, test_predictions)\n",
    "print(\"Test MSE:\", test_mse)\n"
   ]
  },
  {
   "cell_type": "code",
   "execution_count": 867,
   "id": "9d905b69-ebaa-4034-8fdc-09488ad94edb",
   "metadata": {
    "tags": []
   },
   "outputs": [
    {
     "name": "stdout",
     "output_type": "stream",
     "text": [
      "Feature Importance:\n",
      "Adj Close: 0.40977720375840065\n",
      "Open: 0.4095931103623743\n",
      "Close: 0.10132422092487231\n",
      "Low: 0.07930546495435274\n"
     ]
    }
   ],
   "source": [
    "# Assuming model is your trained Gradient Boosting model\n",
    "feature_importances = model.feature_importances_\n",
    "feature_names = X_train_df.columns\n",
    "# Pair feature names with their importance scores\n",
    "feature_importance_dict = dict(zip(feature_names, feature_importances))\n",
    "# Sort features by importance\n",
    "sorted_feature_importance = sorted(feature_importance_dict.items(), key=lambda x: x[1], reverse=True)\n",
    "print(\"Feature Importance:\")\n",
    "for feature, importance in sorted_feature_importance:\n",
    "    print(f\"{feature}: {importance}\")\n"
   ]
  },
  {
   "cell_type": "code",
   "execution_count": 754,
   "id": "49440d6d-c1f6-413c-b5ba-6aed8fed1939",
   "metadata": {
    "tags": []
   },
   "outputs": [
    {
     "name": "stdout",
     "output_type": "stream",
     "text": [
      "Feature Importance:\n",
      "Open: 0.4039024124800167\n",
      "Adj Close: 0.38356527169777055\n",
      "Close: 0.1324181114704385\n",
      "Low: 0.07994294772940685\n",
      "Spy_index: 0.00013720500998363872\n",
      "Volume: 1.916147745936206e-05\n",
      "Fear_index: 1.4411510762847608e-05\n",
      "FEDFUNDS: 4.786241615289605e-07\n"
     ]
    }
   ],
   "source": [
    "# Define the model with different hyperparameters\n",
    "model = GradientBoostingRegressor(n_estimators=200, learning_rate=0.1, max_depth=3)\n",
    "\n",
    "# Fit the model to your data\n",
    "model.fit(X_train_df, y_train_df)\n",
    "\n",
    "# Get the feature importances\n",
    "feature_importances = model.feature_importances_\n",
    "\n",
    "# Pair feature names with their importance scores\n",
    "feature_names = X_train_df.columns\n",
    "feature_importance_dict = dict(zip(feature_names, feature_importances))\n",
    "\n",
    "# Sort features by importance\n",
    "sorted_feature_importance = sorted(feature_importance_dict.items(), key=lambda x: x[1], reverse=True)\n",
    "\n",
    "# Print feature importance\n",
    "print(\"Feature Importance:\")\n",
    "for feature, importance in sorted_feature_importance:\n",
    "    print(f\"{feature}: {importance}\")\n"
   ]
  },
  {
   "cell_type": "code",
   "execution_count": 757,
   "id": "d7d0d9bb-524f-437c-b4cb-b326592a55fa",
   "metadata": {
    "tags": []
   },
   "outputs": [
    {
     "name": "stdout",
     "output_type": "stream",
     "text": [
      "Best Hyperparameters: {'learning_rate': 0.15, 'n_estimators': 600}\n",
      "R-squared score on the training set: 0.9999898574777165\n",
      "R-squared score on the test set: 0.936558578043949\n"
     ]
    }
   ],
   "source": [
    "# Define the parameter grid to search\n",
    "param_grid = {\n",
    "    'n_estimators': [100, 200, 300, 400, 500],  # Number of trees in the ensemble\n",
    "    'learning_rate': [0.01, 0.001, 0.1, 0.15, 0.2],  # Learning rate (shrinkage) of each tree\n",
    "    #'max_depth': [3, 4, 5],  # Maximum depth of each tree\n",
    "    #'min_samples_split': [2, 5, 10],  # Minimum number of samples required to split an internal node\n",
    "    #'min_samples_leaf': [1, 2, 4],  # Minimum number of samples required to be a leaf node\n",
    "    #'max_features': ['sqrt', 'log2', None]  # Number of features to consider when looking for the best split\n",
    "}\n",
    "\n",
    "# Create a GradientBoostingRegressor model\n",
    "model = GradientBoostingRegressor()\n",
    "\n",
    "# Perform grid search with 5-fold cross-validation\n",
    "grid_search = GridSearchCV(estimator=model, param_grid=param_grid, cv=5, scoring='r2', n_jobs=1)\n",
    "\n",
    "# Fit the grid search to your data\n",
    "grid_search.fit(X_train_df, y_train_df)\n",
    "\n",
    "# Get the best model found by grid search\n",
    "best_model = grid_search.best_estimator_\n",
    "\n",
    "# Evaluate R-squared score on the training set\n",
    "train_predictions = best_model.predict(X_train_df)\n",
    "train_r2 = r2_score(y_train_df, train_predictions)\n",
    "\n",
    "# Evaluate R-squared score on the test set\n",
    "test_predictions = best_model.predict(X_test_df)\n",
    "test_r2 = r2_score(y_test_df, test_predictions)\n",
    "\n",
    "# Print the best hyperparameters found\n",
    "print(\"Best Hyperparameters:\", grid_search.best_params_)\n",
    "print(\"R-squared score on the training set:\", train_r2)\n",
    "print(\"R-squared score on the test set:\", test_r2)"
   ]
  },
  {
   "cell_type": "code",
   "execution_count": 758,
   "id": "a77252d5-c48f-4f68-8851-50afb41ec224",
   "metadata": {
    "tags": []
   },
   "outputs": [
    {
     "name": "stdout",
     "output_type": "stream",
     "text": [
      "Percentage difference: 6.773%\n"
     ]
    }
   ],
   "source": [
    "# Given numbers\n",
    "x = train_r2\n",
    "y = test_r2\n",
    "\n",
    "# Calculate the difference\n",
    "difference = max(x, y) - min(x, y)\n",
    "\n",
    "# Calculate the percentage difference\n",
    "percentage_difference = (difference / min(x, y)) * 100\n",
    "\n",
    "# Round the percentage difference to two decimal places\n",
    "percentage_difference = round(percentage_difference, 3)\n",
    "\n",
    "print(\"Percentage difference:\", str(percentage_difference) + \"%\")\n"
   ]
  },
  {
   "cell_type": "code",
   "execution_count": null,
   "id": "ae85d8db-fc54-4bd1-b4f3-1a2bcd35a12b",
   "metadata": {},
   "outputs": [],
   "source": []
  }
 ],
 "metadata": {
  "colab": {
   "provenance": [
    {
     "file_id": "11oxdi4rQZBtPDe0OjA2q6yWS-7R0d_rC",
     "timestamp": 1714789199538
    }
   ]
  },
  "kernelspec": {
   "display_name": "Python 3 (ipykernel)",
   "language": "python",
   "name": "python3"
  },
  "language_info": {
   "codemirror_mode": {
    "name": "ipython",
    "version": 3
   },
   "file_extension": ".py",
   "mimetype": "text/x-python",
   "name": "python",
   "nbconvert_exporter": "python",
   "pygments_lexer": "ipython3",
   "version": "3.11.5"
  }
 },
 "nbformat": 4,
 "nbformat_minor": 5
}
