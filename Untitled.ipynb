{
 "cells": [
  {
   "cell_type": "code",
   "execution_count": 1,
   "id": "842bba79-f3f5-4fdd-b5a2-14a8903b3f20",
   "metadata": {
    "tags": []
   },
   "outputs": [],
   "source": [
    "import pandas as pd\n",
    "import numpy as np\n",
    "from pathlib import Path\n",
    "from sklearn.cluster import KMeans\n",
    "from sklearn.preprocessing import StandardScaler\n",
    "from sklearn.ensemble import RandomForestRegressor\n",
    "from sklearn.model_selection import train_test_split\n",
    "from sklearn.metrics import mean_squared_error, r2_score\n",
    "from sklearn.ensemble import GradientBoostingRegressor\n",
    "%matplotlib inline\n",
    "from sklearn.linear_model import LinearRegression\n",
    "from sklearn.metrics import mean_squared_error, r2_score\n",
    "from sklearn.model_selection import TimeSeriesSplit"
   ]
  },
  {
   "cell_type": "code",
   "execution_count": 2,
   "id": "bbdfe539-fabb-455b-a5e9-d416721a5a71",
   "metadata": {
    "tags": []
   },
   "outputs": [],
   "source": [
    "# Read the CSV file into a DataFrame\n",
    "apple_df = pd.read_csv(\"AAPL.csv\", index_col = \"Date\")"
   ]
  },
  {
   "cell_type": "code",
   "execution_count": 3,
   "id": "cdcc44b1-b41b-4320-bd9b-9a2b924697c4",
   "metadata": {
    "tags": []
   },
   "outputs": [
    {
     "data": {
      "text/html": [
       "<div>\n",
       "<style scoped>\n",
       "    .dataframe tbody tr th:only-of-type {\n",
       "        vertical-align: middle;\n",
       "    }\n",
       "\n",
       "    .dataframe tbody tr th {\n",
       "        vertical-align: top;\n",
       "    }\n",
       "\n",
       "    .dataframe thead th {\n",
       "        text-align: right;\n",
       "    }\n",
       "</style>\n",
       "<table border=\"1\" class=\"dataframe\">\n",
       "  <thead>\n",
       "    <tr style=\"text-align: right;\">\n",
       "      <th></th>\n",
       "      <th>Open</th>\n",
       "      <th>High</th>\n",
       "      <th>Low</th>\n",
       "      <th>Close</th>\n",
       "      <th>Adj Close</th>\n",
       "      <th>Volume</th>\n",
       "    </tr>\n",
       "    <tr>\n",
       "      <th>Date</th>\n",
       "      <th></th>\n",
       "      <th></th>\n",
       "      <th></th>\n",
       "      <th></th>\n",
       "      <th></th>\n",
       "      <th></th>\n",
       "    </tr>\n",
       "  </thead>\n",
       "  <tbody>\n",
       "    <tr>\n",
       "      <th>2014-04-30</th>\n",
       "      <td>21.165714</td>\n",
       "      <td>21.408215</td>\n",
       "      <td>21.064285</td>\n",
       "      <td>21.074642</td>\n",
       "      <td>18.562872</td>\n",
       "      <td>456640800</td>\n",
       "    </tr>\n",
       "    <tr>\n",
       "      <th>2014-05-01</th>\n",
       "      <td>21.142857</td>\n",
       "      <td>21.242857</td>\n",
       "      <td>20.941429</td>\n",
       "      <td>21.124287</td>\n",
       "      <td>18.606590</td>\n",
       "      <td>244048000</td>\n",
       "    </tr>\n",
       "    <tr>\n",
       "      <th>2014-05-02</th>\n",
       "      <td>21.155001</td>\n",
       "      <td>21.221430</td>\n",
       "      <td>21.061071</td>\n",
       "      <td>21.163570</td>\n",
       "      <td>18.641197</td>\n",
       "      <td>191514400</td>\n",
       "    </tr>\n",
       "    <tr>\n",
       "      <th>2014-05-05</th>\n",
       "      <td>21.076429</td>\n",
       "      <td>21.464287</td>\n",
       "      <td>21.071428</td>\n",
       "      <td>21.462856</td>\n",
       "      <td>18.904810</td>\n",
       "      <td>287067200</td>\n",
       "    </tr>\n",
       "    <tr>\n",
       "      <th>2014-05-06</th>\n",
       "      <td>21.492857</td>\n",
       "      <td>21.586071</td>\n",
       "      <td>21.228930</td>\n",
       "      <td>21.228930</td>\n",
       "      <td>18.698767</td>\n",
       "      <td>374564400</td>\n",
       "    </tr>\n",
       "  </tbody>\n",
       "</table>\n",
       "</div>"
      ],
      "text/plain": [
       "                 Open       High        Low      Close  Adj Close     Volume\n",
       "Date                                                                        \n",
       "2014-04-30  21.165714  21.408215  21.064285  21.074642  18.562872  456640800\n",
       "2014-05-01  21.142857  21.242857  20.941429  21.124287  18.606590  244048000\n",
       "2014-05-02  21.155001  21.221430  21.061071  21.163570  18.641197  191514400\n",
       "2014-05-05  21.076429  21.464287  21.071428  21.462856  18.904810  287067200\n",
       "2014-05-06  21.492857  21.586071  21.228930  21.228930  18.698767  374564400"
      ]
     },
     "execution_count": 3,
     "metadata": {},
     "output_type": "execute_result"
    }
   ],
   "source": [
    "# Display the DataFrame\n",
    "apple_df.head()"
   ]
  },
  {
   "cell_type": "code",
   "execution_count": 4,
   "id": "333932c1-535e-4f54-b962-af75c5357263",
   "metadata": {
    "tags": []
   },
   "outputs": [
    {
     "data": {
      "text/html": [
       "<div>\n",
       "<style scoped>\n",
       "    .dataframe tbody tr th:only-of-type {\n",
       "        vertical-align: middle;\n",
       "    }\n",
       "\n",
       "    .dataframe tbody tr th {\n",
       "        vertical-align: top;\n",
       "    }\n",
       "\n",
       "    .dataframe thead th {\n",
       "        text-align: right;\n",
       "    }\n",
       "</style>\n",
       "<table border=\"1\" class=\"dataframe\">\n",
       "  <thead>\n",
       "    <tr style=\"text-align: right;\">\n",
       "      <th></th>\n",
       "      <th>Open</th>\n",
       "      <th>Low</th>\n",
       "      <th>Close</th>\n",
       "      <th>Adj Close</th>\n",
       "      <th>Volume</th>\n",
       "    </tr>\n",
       "    <tr>\n",
       "      <th>Date</th>\n",
       "      <th></th>\n",
       "      <th></th>\n",
       "      <th></th>\n",
       "      <th></th>\n",
       "      <th></th>\n",
       "    </tr>\n",
       "  </thead>\n",
       "  <tbody>\n",
       "    <tr>\n",
       "      <th>2014-04-30</th>\n",
       "      <td>21.165714</td>\n",
       "      <td>21.064285</td>\n",
       "      <td>21.074642</td>\n",
       "      <td>18.562872</td>\n",
       "      <td>456640800</td>\n",
       "    </tr>\n",
       "    <tr>\n",
       "      <th>2014-05-01</th>\n",
       "      <td>21.142857</td>\n",
       "      <td>20.941429</td>\n",
       "      <td>21.124287</td>\n",
       "      <td>18.606590</td>\n",
       "      <td>244048000</td>\n",
       "    </tr>\n",
       "    <tr>\n",
       "      <th>2014-05-02</th>\n",
       "      <td>21.155001</td>\n",
       "      <td>21.061071</td>\n",
       "      <td>21.163570</td>\n",
       "      <td>18.641197</td>\n",
       "      <td>191514400</td>\n",
       "    </tr>\n",
       "    <tr>\n",
       "      <th>2014-05-05</th>\n",
       "      <td>21.076429</td>\n",
       "      <td>21.071428</td>\n",
       "      <td>21.462856</td>\n",
       "      <td>18.904810</td>\n",
       "      <td>287067200</td>\n",
       "    </tr>\n",
       "    <tr>\n",
       "      <th>2014-05-06</th>\n",
       "      <td>21.492857</td>\n",
       "      <td>21.228930</td>\n",
       "      <td>21.228930</td>\n",
       "      <td>18.698767</td>\n",
       "      <td>374564400</td>\n",
       "    </tr>\n",
       "  </tbody>\n",
       "</table>\n",
       "</div>"
      ],
      "text/plain": [
       "                 Open        Low      Close  Adj Close     Volume\n",
       "Date                                                             \n",
       "2014-04-30  21.165714  21.064285  21.074642  18.562872  456640800\n",
       "2014-05-01  21.142857  20.941429  21.124287  18.606590  244048000\n",
       "2014-05-02  21.155001  21.061071  21.163570  18.641197  191514400\n",
       "2014-05-05  21.076429  21.071428  21.462856  18.904810  287067200\n",
       "2014-05-06  21.492857  21.228930  21.228930  18.698767  374564400"
      ]
     },
     "execution_count": 4,
     "metadata": {},
     "output_type": "execute_result"
    }
   ],
   "source": [
    "# Define features set\n",
    "X = apple_df.copy()\n",
    "X.drop(\"High\",axis=1, inplace=True)\n",
    "X.head()\n"
   ]
  },
  {
   "cell_type": "code",
   "execution_count": 5,
   "id": "b7199183-1683-4fbc-ae44-2244ea10db7f",
   "metadata": {
    "tags": []
   },
   "outputs": [
    {
     "data": {
      "text/plain": [
       "Date\n",
       "2014-04-30    21.408215\n",
       "2014-05-01    21.242857\n",
       "2014-05-02    21.221430\n",
       "2014-05-05    21.464287\n",
       "2014-05-06    21.586071\n",
       "Name: High, dtype: float64"
      ]
     },
     "execution_count": 5,
     "metadata": {},
     "output_type": "execute_result"
    }
   ],
   "source": [
    "# Define target vector\n",
    "y = apple_df[\"High\"]\n",
    "y[:5]"
   ]
  },
  {
   "cell_type": "code",
   "execution_count": 6,
   "id": "572d2e5f-dc9c-4840-b763-a0f22f442a4f",
   "metadata": {
    "tags": []
   },
   "outputs": [],
   "source": [
    "# Drop the first row from target y\n",
    "y = y.iloc[1:]\n",
    "\n",
    "# Drop the last row from features X\n",
    "X = X.iloc[:-1]\n",
    "\n"
   ]
  },
  {
   "cell_type": "code",
   "execution_count": null,
   "id": "a30899be-cdd1-4972-b0c4-2ddc01b58572",
   "metadata": {},
   "outputs": [],
   "source": []
  }
 ],
 "metadata": {
  "kernelspec": {
   "display_name": "Python 3 (ipykernel)",
   "language": "python",
   "name": "python3"
  },
  "language_info": {
   "codemirror_mode": {
    "name": "ipython",
    "version": 3
   },
   "file_extension": ".py",
   "mimetype": "text/x-python",
   "name": "python",
   "nbconvert_exporter": "python",
   "pygments_lexer": "ipython3",
   "version": "3.11.5"
  }
 },
 "nbformat": 4,
 "nbformat_minor": 5
}
