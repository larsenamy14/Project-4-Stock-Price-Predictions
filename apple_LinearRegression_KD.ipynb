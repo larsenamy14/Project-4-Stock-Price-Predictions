{
 "cells": [
  {
   "cell_type": "code",
   "execution_count": 33,
   "id": "0d57f7b0-8a88-499e-87c1-60c83db34572",
   "metadata": {
    "tags": []
   },
   "outputs": [],
   "source": [
    "import pandas as pd\n",
    "from sklearn.model_selection import train_test_split\n",
    "from sklearn.linear_model import LinearRegression\n",
    "from sklearn.preprocessing import StandardScaler\n",
    "from sklearn.metrics import mean_squared_error, r2_score\n",
    "\n",
    "import numpy as np\n",
    "from pathlib import Path\n",
    "from sklearn.cluster import KMeans\n",
    "from sklearn.model_selection import train_test_split\n",
    "from sklearn.metrics import mean_squared_error, r2_score\n",
    "from sklearn.model_selection import TimeSeriesSplit\n",
    "\n",
    "%matplotlib inline"
   ]
  },
  {
   "cell_type": "code",
   "execution_count": 34,
   "id": "4795a4f8-6679-4565-8a33-b327221523f8",
   "metadata": {
    "tags": []
   },
   "outputs": [
    {
     "data": {
      "text/html": [
       "<div>\n",
       "<style scoped>\n",
       "    .dataframe tbody tr th:only-of-type {\n",
       "        vertical-align: middle;\n",
       "    }\n",
       "\n",
       "    .dataframe tbody tr th {\n",
       "        vertical-align: top;\n",
       "    }\n",
       "\n",
       "    .dataframe thead th {\n",
       "        text-align: right;\n",
       "    }\n",
       "</style>\n",
       "<table border=\"1\" class=\"dataframe\">\n",
       "  <thead>\n",
       "    <tr style=\"text-align: right;\">\n",
       "      <th></th>\n",
       "      <th>Open</th>\n",
       "      <th>High</th>\n",
       "      <th>Low</th>\n",
       "      <th>Close</th>\n",
       "      <th>Adj Close</th>\n",
       "      <th>Volume</th>\n",
       "    </tr>\n",
       "    <tr>\n",
       "      <th>Date</th>\n",
       "      <th></th>\n",
       "      <th></th>\n",
       "      <th></th>\n",
       "      <th></th>\n",
       "      <th></th>\n",
       "      <th></th>\n",
       "    </tr>\n",
       "  </thead>\n",
       "  <tbody>\n",
       "    <tr>\n",
       "      <th>2014-04-30</th>\n",
       "      <td>21.165714</td>\n",
       "      <td>21.408215</td>\n",
       "      <td>21.064285</td>\n",
       "      <td>21.074642</td>\n",
       "      <td>18.562872</td>\n",
       "      <td>456640800</td>\n",
       "    </tr>\n",
       "    <tr>\n",
       "      <th>2014-05-01</th>\n",
       "      <td>21.142857</td>\n",
       "      <td>21.242857</td>\n",
       "      <td>20.941429</td>\n",
       "      <td>21.124287</td>\n",
       "      <td>18.606590</td>\n",
       "      <td>244048000</td>\n",
       "    </tr>\n",
       "    <tr>\n",
       "      <th>2014-05-02</th>\n",
       "      <td>21.155001</td>\n",
       "      <td>21.221430</td>\n",
       "      <td>21.061071</td>\n",
       "      <td>21.163570</td>\n",
       "      <td>18.641197</td>\n",
       "      <td>191514400</td>\n",
       "    </tr>\n",
       "    <tr>\n",
       "      <th>2014-05-05</th>\n",
       "      <td>21.076429</td>\n",
       "      <td>21.464287</td>\n",
       "      <td>21.071428</td>\n",
       "      <td>21.462856</td>\n",
       "      <td>18.904810</td>\n",
       "      <td>287067200</td>\n",
       "    </tr>\n",
       "    <tr>\n",
       "      <th>2014-05-06</th>\n",
       "      <td>21.492857</td>\n",
       "      <td>21.586071</td>\n",
       "      <td>21.228930</td>\n",
       "      <td>21.228930</td>\n",
       "      <td>18.698767</td>\n",
       "      <td>374564400</td>\n",
       "    </tr>\n",
       "  </tbody>\n",
       "</table>\n",
       "</div>"
      ],
      "text/plain": [
       "                 Open       High        Low      Close  Adj Close     Volume\n",
       "Date                                                                        \n",
       "2014-04-30  21.165714  21.408215  21.064285  21.074642  18.562872  456640800\n",
       "2014-05-01  21.142857  21.242857  20.941429  21.124287  18.606590  244048000\n",
       "2014-05-02  21.155001  21.221430  21.061071  21.163570  18.641197  191514400\n",
       "2014-05-05  21.076429  21.464287  21.071428  21.462856  18.904810  287067200\n",
       "2014-05-06  21.492857  21.586071  21.228930  21.228930  18.698767  374564400"
      ]
     },
     "execution_count": 34,
     "metadata": {},
     "output_type": "execute_result"
    }
   ],
   "source": [
    "# Read the CSV file into a DataFrame\n",
    "data = pd.read_csv(\"AAPL.csv\", index_col = \"Date\")\n",
    "\n",
    "data.head()"
   ]
  },
  {
   "cell_type": "code",
   "execution_count": 35,
   "id": "382f1422-78fd-4184-a20c-42ddd9ad8c8a",
   "metadata": {
    "tags": []
   },
   "outputs": [
    {
     "name": "stdout",
     "output_type": "stream",
     "text": [
      "Train: 2014-04-30 2022-04-29\n",
      "Test: 2022-05-02 2024-04-29\n"
     ]
    }
   ],
   "source": [
    "date_cutoff = \"2022-04-30\"\n",
    "X_train_df = X[X.index <= date_cutoff]\n",
    "X_test_df = X[X.index > date_cutoff]\n",
    "\n",
    "print(\"Train:\", X_train_df.index.min(), X_train_df.index.max())\n",
    "print(\"Test:\", X_test_df.index.min(), X_test_df.index.max())"
   ]
  },
  {
   "cell_type": "code",
   "execution_count": 36,
   "id": "95e583a6-c844-40a6-b14f-d0ac66123ecd",
   "metadata": {
    "tags": []
   },
   "outputs": [
    {
     "name": "stdout",
     "output_type": "stream",
     "text": [
      "Train: 2014-04-30 2022-04-29\n",
      "Test: 2022-05-02 2024-04-29\n"
     ]
    }
   ],
   "source": [
    "y_train_df = y[y.index <= date_cutoff]\n",
    "y_test_df = y[y.index > date_cutoff]\n",
    "\n",
    "print(\"Train:\", y_train_df.index.min(), y_train_df.index.max())\n",
    "print(\"Test:\", y_test_df.index.min(), y_test_df.index.max())"
   ]
  },
  {
   "cell_type": "code",
   "execution_count": 37,
   "id": "072cb3b8-f500-446c-84d9-48b4f0f10f86",
   "metadata": {
    "tags": []
   },
   "outputs": [],
   "source": [
    "# Split the data into features (X) and target variable (y)\n",
    "#X = data.drop(columns=[\"High\"])\n",
    "#y = data[\"High\"]\n"
   ]
  },
  {
   "cell_type": "code",
   "execution_count": 38,
   "id": "a5667802-e6b7-459f-b401-84d4faed7cf4",
   "metadata": {
    "tags": []
   },
   "outputs": [],
   "source": [
    "# Optionally, perform feature scaling if necessary\n",
    "scaler = StandardScaler()\n",
    "X_scaled = scaler.fit_transform(X_train_df)\n",
    "X_test_scaled = scaler.fit_transform(X_test_df)"
   ]
  },
  {
   "cell_type": "code",
   "execution_count": 39,
   "id": "c0097a93-0bc7-4faf-9746-e5ce8505ea2b",
   "metadata": {
    "tags": []
   },
   "outputs": [],
   "source": [
    "#X_train, X_test, y_train, y_test = train_test_split(X_scaled, y, test_size=0.2, random_state=42)"
   ]
  },
  {
   "cell_type": "code",
   "execution_count": 40,
   "id": "15f2a411-b417-4de9-a0a6-d2d0f89b41bb",
   "metadata": {
    "tags": []
   },
   "outputs": [
    {
     "data": {
      "text/html": [
       "<style>#sk-container-id-3 {color: black;}#sk-container-id-3 pre{padding: 0;}#sk-container-id-3 div.sk-toggleable {background-color: white;}#sk-container-id-3 label.sk-toggleable__label {cursor: pointer;display: block;width: 100%;margin-bottom: 0;padding: 0.3em;box-sizing: border-box;text-align: center;}#sk-container-id-3 label.sk-toggleable__label-arrow:before {content: \"▸\";float: left;margin-right: 0.25em;color: #696969;}#sk-container-id-3 label.sk-toggleable__label-arrow:hover:before {color: black;}#sk-container-id-3 div.sk-estimator:hover label.sk-toggleable__label-arrow:before {color: black;}#sk-container-id-3 div.sk-toggleable__content {max-height: 0;max-width: 0;overflow: hidden;text-align: left;background-color: #f0f8ff;}#sk-container-id-3 div.sk-toggleable__content pre {margin: 0.2em;color: black;border-radius: 0.25em;background-color: #f0f8ff;}#sk-container-id-3 input.sk-toggleable__control:checked~div.sk-toggleable__content {max-height: 200px;max-width: 100%;overflow: auto;}#sk-container-id-3 input.sk-toggleable__control:checked~label.sk-toggleable__label-arrow:before {content: \"▾\";}#sk-container-id-3 div.sk-estimator input.sk-toggleable__control:checked~label.sk-toggleable__label {background-color: #d4ebff;}#sk-container-id-3 div.sk-label input.sk-toggleable__control:checked~label.sk-toggleable__label {background-color: #d4ebff;}#sk-container-id-3 input.sk-hidden--visually {border: 0;clip: rect(1px 1px 1px 1px);clip: rect(1px, 1px, 1px, 1px);height: 1px;margin: -1px;overflow: hidden;padding: 0;position: absolute;width: 1px;}#sk-container-id-3 div.sk-estimator {font-family: monospace;background-color: #f0f8ff;border: 1px dotted black;border-radius: 0.25em;box-sizing: border-box;margin-bottom: 0.5em;}#sk-container-id-3 div.sk-estimator:hover {background-color: #d4ebff;}#sk-container-id-3 div.sk-parallel-item::after {content: \"\";width: 100%;border-bottom: 1px solid gray;flex-grow: 1;}#sk-container-id-3 div.sk-label:hover label.sk-toggleable__label {background-color: #d4ebff;}#sk-container-id-3 div.sk-serial::before {content: \"\";position: absolute;border-left: 1px solid gray;box-sizing: border-box;top: 0;bottom: 0;left: 50%;z-index: 0;}#sk-container-id-3 div.sk-serial {display: flex;flex-direction: column;align-items: center;background-color: white;padding-right: 0.2em;padding-left: 0.2em;position: relative;}#sk-container-id-3 div.sk-item {position: relative;z-index: 1;}#sk-container-id-3 div.sk-parallel {display: flex;align-items: stretch;justify-content: center;background-color: white;position: relative;}#sk-container-id-3 div.sk-item::before, #sk-container-id-3 div.sk-parallel-item::before {content: \"\";position: absolute;border-left: 1px solid gray;box-sizing: border-box;top: 0;bottom: 0;left: 50%;z-index: -1;}#sk-container-id-3 div.sk-parallel-item {display: flex;flex-direction: column;z-index: 1;position: relative;background-color: white;}#sk-container-id-3 div.sk-parallel-item:first-child::after {align-self: flex-end;width: 50%;}#sk-container-id-3 div.sk-parallel-item:last-child::after {align-self: flex-start;width: 50%;}#sk-container-id-3 div.sk-parallel-item:only-child::after {width: 0;}#sk-container-id-3 div.sk-dashed-wrapped {border: 1px dashed gray;margin: 0 0.4em 0.5em 0.4em;box-sizing: border-box;padding-bottom: 0.4em;background-color: white;}#sk-container-id-3 div.sk-label label {font-family: monospace;font-weight: bold;display: inline-block;line-height: 1.2em;}#sk-container-id-3 div.sk-label-container {text-align: center;}#sk-container-id-3 div.sk-container {/* jupyter's `normalize.less` sets `[hidden] { display: none; }` but bootstrap.min.css set `[hidden] { display: none !important; }` so we also need the `!important` here to be able to override the default hidden behavior on the sphinx rendered scikit-learn.org. See: https://github.com/scikit-learn/scikit-learn/issues/21755 */display: inline-block !important;position: relative;}#sk-container-id-3 div.sk-text-repr-fallback {display: none;}</style><div id=\"sk-container-id-3\" class=\"sk-top-container\"><div class=\"sk-text-repr-fallback\"><pre>LinearRegression()</pre><b>In a Jupyter environment, please rerun this cell to show the HTML representation or trust the notebook. <br />On GitHub, the HTML representation is unable to render, please try loading this page with nbviewer.org.</b></div><div class=\"sk-container\" hidden><div class=\"sk-item\"><div class=\"sk-estimator sk-toggleable\"><input class=\"sk-toggleable__control sk-hidden--visually\" id=\"sk-estimator-id-3\" type=\"checkbox\" checked><label for=\"sk-estimator-id-3\" class=\"sk-toggleable__label sk-toggleable__label-arrow\">LinearRegression</label><div class=\"sk-toggleable__content\"><pre>LinearRegression()</pre></div></div></div></div></div>"
      ],
      "text/plain": [
       "LinearRegression()"
      ]
     },
     "execution_count": 40,
     "metadata": {},
     "output_type": "execute_result"
    }
   ],
   "source": [
    "# Instantiate the Linear Regression model\n",
    "linear_model = LinearRegression()\n",
    "\n",
    "# Fit the model to the training data\n",
    "linear_model.fit(X_train_df, y_train_df)\n"
   ]
  },
  {
   "cell_type": "code",
   "execution_count": 41,
   "id": "e3d5dedc-8f2f-4867-a6cf-fc2f16fe4180",
   "metadata": {
    "tags": []
   },
   "outputs": [],
   "source": [
    "y_pred = linear_model.predict(X_test_df)\n"
   ]
  },
  {
   "cell_type": "code",
   "execution_count": 42,
   "id": "88a572af-1eea-4b3a-bdbb-2d616e58764d",
   "metadata": {
    "tags": []
   },
   "outputs": [
    {
     "name": "stdout",
     "output_type": "stream",
     "text": [
      "Mean Squared Error (MSE): 0.9680459598592746\n",
      "R-squared (R2) Score: 0.9971351244126568\n"
     ]
    }
   ],
   "source": [
    "mse = mean_squared_error(y_test_df, y_pred)\n",
    "r2 = r2_score(y_test_df, y_pred)\n",
    "\n",
    "print(\"Mean Squared Error (MSE):\", mse)\n",
    "print(\"R-squared (R2) Score:\", r2)\n"
   ]
  },
  {
   "cell_type": "code",
   "execution_count": null,
   "id": "807dd917-5e68-42d4-9b7b-7a8c925e4683",
   "metadata": {},
   "outputs": [],
   "source": []
  }
 ],
 "metadata": {
  "kernelspec": {
   "display_name": "Python 3 (ipykernel)",
   "language": "python",
   "name": "python3"
  },
  "language_info": {
   "codemirror_mode": {
    "name": "ipython",
    "version": 3
   },
   "file_extension": ".py",
   "mimetype": "text/x-python",
   "name": "python",
   "nbconvert_exporter": "python",
   "pygments_lexer": "ipython3",
   "version": "3.11.5"
  }
 },
 "nbformat": 4,
 "nbformat_minor": 5
}
